{
 "cells": [
  {
   "cell_type": "markdown",
   "id": "17027c24-2e47-4fac-9cdd-49af9975ea5c",
   "metadata": {},
   "source": [
    "# More on Pandas DataFrames\n",
    "pandas DataFrames are a fundamental tool in Python for data manipulation and analysis. Understanding these core concepts is essential for effective data handling in scientific computing, especially for large multivariate datasets.\n"
   ]
  },
  {
   "cell_type": "markdown",
   "id": "a54a9143-63ab-4c78-b00a-048af3079f08",
   "metadata": {},
   "source": [
    "## DataFrame Basics and Key Components\n",
    "- **Definition**: A DataFrame is a two-dimensional, size-mutable, and potentially heterogeneous tabular data structure with labeled axes (rows and columns). `Pandas dataframes` are made of `pandas series` data structures. Each series is a column. They behave like `numpy arrays`.  \n",
    "- **Creation**: DataFrames can be created from various data sources like lists, dictionaries, or reading from files (e.g., CSV, Excel). \n",
    "- **Rows and Columns**: DataFrames are composed of rows and columns, each row representing a record and each column a feature.\n",
    "- **Index**: Each row has an index, which can be numeric, string, or datetime. It's crucial for data alignment and manipulation.\n",
    "- **Data Types**: Columns can hold different types of data (integers, strings, floats, etc.)."
   ]
  },
  {
   "cell_type": "code",
   "execution_count": 2,
   "id": "461f249b-75fc-4a9c-b4dd-2483a307f938",
   "metadata": {},
   "outputs": [
    {
     "name": "stdout",
     "output_type": "stream",
     "text": [
      "Amino Acids DataFrame:\n",
      "        AminoAcid  MolecularWeight   pKa\n",
      "0        Alanine             89.1  2.34\n",
      "1       Cysteine            121.2  1.96\n",
      "2  Aspartic Acid            133.1  3.90\n",
      "3      Glutamine            146.1  2.17\n"
     ]
    }
   ],
   "source": [
    "# Sample dataframe\n",
    "# Importing necessary libraries\n",
    "import pandas as pd\n",
    "import numpy as np\n",
    "\n",
    "# Creating a DataFrame\n",
    "# --------------------\n",
    "# Example: Creating a DataFrame to store amino acid properties\n",
    "# Start by creating a dictionary with amino acid molecular weights keyed to their corresponding amino acid name\n",
    "amino_acids = {\n",
    "    'AminoAcid': ['Alanine', 'Cysteine', 'Aspartic Acid', 'Glutamine'],\n",
    "    'MolecularWeight': [89.1, 121.2, 133.1, 146.1],\n",
    "    'pKa': [2.34, 1.96, 3.9, 2.17]\n",
    "}\n",
    "# Convert the dictionary to a dataframe\n",
    "amino_acids_df = pd.DataFrame(amino_acids)\n",
    "print(\"Amino Acids DataFrame:\\n\", amino_acids_df)"
   ]
  },
  {
   "cell_type": "markdown",
   "id": "b5f1a6cd-e335-4779-8298-97abf99d3456",
   "metadata": {},
   "source": [
    "## Some useful descriptive methods\n",
    "The strength of dataframes are that the facilitate handling large, multivariate datasets. Here are some useful descriptive methods:\n",
    "1. head() - View the first few rows of the DataFrame\n",
    "2. tail() - View the last few rows of the DataFrame\n",
    "3. describe() - Get a summary of statistics for numeric columns\n",
    "4. info() - Get a concise summary of the DataFrame\n",
    "5. mean() - Calculate the mean of each numeric column\n",
    "6. median() - Calculate the median of each numeric column\n",
    "    \n",
    "**Note**: Because these are `methods`, you'll call them by appending them onto your dataframe of interest: i.e., dataframe.head()"
   ]
  },
  {
   "cell_type": "code",
   "execution_count": 5,
   "id": "72481035-7514-4fdd-ae6a-c8c6118d9c2e",
   "metadata": {},
   "outputs": [
    {
     "name": "stdout",
     "output_type": "stream",
     "text": [
      "       AminoAcid  MolecularWeight   pKa\n",
      "0        Alanine             89.1  2.34\n",
      "1       Cysteine            121.2  1.96\n",
      "2  Aspartic Acid            133.1  3.90\n",
      "3      Glutamine            146.1  2.17\n"
     ]
    }
   ],
   "source": [
    "# Print the first five lines of amino_acids_df\n",
    "print(amino_acids_df.head())\n",
    "\n",
    "# Try swapping out .head() with other methods. What does each one do?"
   ]
  },
  {
   "cell_type": "markdown",
   "id": "54feb39e-8a23-4d24-bee3-f8d3e0e94700",
   "metadata": {},
   "source": [
    "## Data Manipulation, Merging, and Sorting\n",
    "Above, we saw how to look at the data, pandas also maintains many powerful methods for manipulating the data, including:\n",
    "- **Selection**: Accessing specific rows, columns, or cells using loc, iloc, or column names.\n",
    "- **Filtering**: Extracting a subset of rows based on a condition.\n",
    "- **Adding Columns**: Enhancing DataFrames by calculating new columns or adding data.\n",
    "- **Aggregation**: Performing statistical operations like mean, median, sum, etc., on columns.\n",
    "- **Merging**: Combining two DataFrames based on common columns.\n",
    "- **Joining**: Linking DataFrames using their indexes.\n",
    "- **Detection**: Identifying missing or NaN values in the DataFrame.\n",
    "- **Filling**: Replacing missing values with specific values or statistical measures (mean, median).\n",
    "- **Dropping**: Removing rows or columns with missing values.\n",
    "- **Reading Data**: Loading data from various file formats into DataFrames.\n",
    "- **Writing Data**: Exporting DataFrames to different file formats for storage or further analysis."
   ]
  },
  {
   "cell_type": "code",
   "execution_count": 11,
   "id": "7abec491-5b6b-4a47-a5f7-c29cff213bc6",
   "metadata": {
    "scrolled": true
   },
   "outputs": [
    {
     "name": "stdout",
     "output_type": "stream",
     "text": [
      "Molecular Weights:\n",
      " 0     89.1\n",
      "1    121.2\n",
      "2    133.1\n",
      "3    146.1\n",
      "Name: MolecularWeight, dtype: float64\n",
      "<class 'pandas.core.series.Series'>\n"
     ]
    },
    {
     "data": {
      "image/png": "[encoded data removed]",
      "text/plain": [
       "<Figure size 640x480 with 1 Axes>"
      ]
     },
     "metadata": {},
     "output_type": "display_data"
    }
   ],
   "source": [
    "# Accessing specific columns\n",
    "weights = amino_acids_df['MolecularWeight']\n",
    "print(\"Molecular Weights:\\n\", weights)\n",
    "\n",
    "# you may wonder: what kind of data type is 'weights'? Let's check..\n",
    "print(type(weights))\n",
    "\n",
    "# Plot a histogram of one of the columns using seaborn\n",
    "import seaborn as sns\n",
    "import matplotlib.pyplot as plt\n",
    "\n",
    "sns.histplot(weights)\n",
    "plt.title('Histogram of MW')\n",
    "plt.show()"
   ]
  },
  {
   "cell_type": "markdown",
   "id": "cee44804-caa4-4b07-8763-b1f7c049c194",
   "metadata": {},
   "source": [
    "## Exercise 1: Accessing Columns and Plotting\n",
    "- Create a series containing only the pKa values from the amino_acids_df\n",
    "- Plot a histogram of the series"
   ]
  },
  {
   "cell_type": "code",
   "execution_count": null,
   "id": "05978625-bee9-40c6-a164-5e34629dbc0a",
   "metadata": {},
   "outputs": [],
   "source": [
    "# Your answer Here"
   ]
  },
  {
   "cell_type": "markdown",
   "id": "a16eaf08-db14-4726-8da0-4167bf9b54a3",
   "metadata": {},
   "source": [
    "## Conditional Filtering\n",
    "Creating new series or dataframe using only the data you want is extremely useful. Here's an example: "
   ]
  },
  {
   "cell_type": "code",
   "execution_count": 13,
   "id": "74baa02b-bf6a-4ee7-891c-cd687c3ea658",
   "metadata": {},
   "outputs": [
    {
     "name": "stdout",
     "output_type": "stream",
     "text": [
      "Heavy Amino Acids:\n",
      "        AminoAcid  MolecularWeight   pKa\n",
      "1       Cysteine            121.2  1.96\n",
      "2  Aspartic Acid            133.1  3.90\n",
      "3      Glutamine            146.1  2.17\n"
     ]
    }
   ],
   "source": [
    "# Filtering: Selecting amino acids with a molecular weight greater than 120\n",
    "heavy_amino_acids = amino_acids_df[amino_acids_df['MolecularWeight'] > 120]\n",
    "print(\"Heavy Amino Acids:\\n\", heavy_amino_acids)"
   ]
  },
  {
   "cell_type": "code",
   "execution_count": null,
   "id": "b0120a0e-d915-4178-912c-ad5c2a851b0e",
   "metadata": {},
   "outputs": [],
   "source": [
    "# Other useful Examples:\n",
    "# Accessing rows using loc. The value refers to the row being isolated. Try a different row. What happens?\n",
    "alanine_data = amino_acids_df.loc[0]\n",
    "print(\"Data for Alanine:\\n\", alanine_data)\n",
    "\n",
    "# Adding a new column: Calculating the molar mass of amino acids\n",
    "amino_acids_df['MolarMass'] = amino_acids_df['MolecularWeight'] * 1.66054\n",
    "print(\"Amino Acids with Molar Mass:\\n\", amino_acids_df)\n",
    "\n",
    "# Aggregation: Calculating average molecular weight\n",
    "average_weight = amino_acids_df['MolecularWeight'].mean()\n",
    "print(\"Average Molecular Weight:\", average_weight)"
   ]
  },
  {
   "cell_type": "markdown",
   "id": "135943bf-6212-4945-927e-e193d5b16db9",
   "metadata": {},
   "source": [
    "## Some other useful methods for manipulation, merging, and sorting\n",
    "\n",
    "1. groupby() - Group DataFrame using a mapper or by a series of columns\n",
    "\n",
    "2. sort_values() - Sort by the values along either axis\n",
    "\n",
    "3. drop_duplicates() - Remove duplicate rows\n",
    "\n",
    "4. to_csv() - Write DataFrame to a comma-separated values (csv) file: **df.to_csv('filename.csv')**\n",
    "\n",
    "5. read_csv() - Read a comma-separated values (csv) file into DataFrame: **pd.read_csv('filename.csv')**\n",
    "\n",
    "6. isnull() - Detect missing values\n",
    "\n",
    "7. fillna() - Fill NA/NaN values using a specified method: **df.fillna(value=0)**\n",
    "\n",
    "8. apply() - Apply a function along an axis of the DataFrame: **df.apply(lambda x: x * 2)**\n",
    "\n",
    "9. merge() - Merge DataFrame or named Series objects with a database-style join: **pd.merge(df1, df2, on='key')**\n",
    "\n",
    "10. pivot_table() - Create a spreadsheet-style pivot table as a DataFrame: **df.pivot_table(values='Column2', index='Column1', aggfunc='mean')**"
   ]
  },
  {
   "cell_type": "code",
   "execution_count": null,
   "id": "535abed4-34fa-45fd-817d-963ad1afcb86",
   "metadata": {
    "scrolled": true
   },
   "outputs": [],
   "source": [
    "\n",
    "\n",
    "# DataFrame Merging and Joining\n",
    "# ------------------------------\n",
    "# Example: Merging with another DataFrame\n",
    "# Assume we have another DataFrame with solubility data\n",
    "solubility_data = pd.DataFrame({\n",
    "    'AminoAcid': ['Alanine', 'Cysteine', 'Glutamine'],\n",
    "    'Solubility': [167, 200, 180]  # Solubility in g/L\n",
    "})\n",
    "merged_df = pd.merge(amino_acids_df, solubility_data, on='AminoAcid', how='left')\n",
    "print(\"Merged DataFrame with Solubility:\\n\", merged_df)\n",
    "\n",
    "# Handling Missing Data\n",
    "# ----------------------\n",
    "# Filling missing values with a default value (e.g., average solubility)\n",
    "merged_df['Solubility'].fillna(merged_df['Solubility'].mean(), inplace=True)\n",
    "print(\"DataFrame with Missing Values Handled:\\n\", merged_df)"
   ]
  },
  {
   "cell_type": "markdown",
   "id": "0e14ac8d-04b5-4197-8db0-de038736c611",
   "metadata": {},
   "source": [
    "## Some additional pandas functions\n",
    "These are particularly useful with dealing with very large datasets (which is where DataFrames really shine)"
   ]
  },
  {
   "cell_type": "code",
   "execution_count": null,
   "id": "25a2eda7-a3f1-41ad-b2e6-c73b59a837c7",
   "metadata": {
    "scrolled": true
   },
   "outputs": [],
   "source": [
    "# Check the first five rows and column headers (useful for large dataframes)\n",
    "amino_acids_df.head()\n",
    "# Also try, \n",
    "#amino_acids_df.tail()\n",
    "# What does this do?"
   ]
  },
  {
   "cell_type": "code",
   "execution_count": null,
   "id": "97334cdc-dc82-4c6e-88c4-0d05a28a390b",
   "metadata": {},
   "outputs": [],
   "source": [
    "# Descriptive statistics\n",
    "amino_acids_df.describe()\n",
    "\n",
    "# Also try amino_acids_df.info()"
   ]
  },
  {
   "cell_type": "markdown",
   "id": "52f46de4-3e86-4f2b-bfec-c8f380fa87de",
   "metadata": {},
   "source": [
    "# Exercises\r\n",
    "\r\n",
    "## Exercise 1: DataFrame Creation\r\n",
    "- **Task**: Create a DataFrame for storing data about different enzymes, including their names, optimal pH, and temperature.\r\n",
    "- **Hint**: Define a dictionary with enzyme information and convert it into a DataFrame using `pd.DataFrame()`.\r\n",
    "\r\n",
    "## Exercise 2: Data Access and Manipulation\r\n",
    "- **Task**: From the enzyme DataFrame, select and print only the names and optimal temperatures of enzymes.\r\n",
    "- **Hint**: Use DataFrame indexing to select specific columns.\r\n",
    "\r\n",
    "## Exercise 3: Filtering Data\r\n",
    "- **Task**: Filter and display enzymes that operate at a pH greater than 7.\r\n",
    "- **Hint**: Use a boolean condition to filter rows based on pH values.\r\n",
    "\r\n",
    "## Exercise 4: Adding and Computing a New Column\r\n",
    "- **Task**: Add a new column to the enzyme DataFrame that indicates whether the enzyme is thermophilic (optimal temperature > 60°C).\r\n",
    "- **Hint**: Use a lambda function and `apply()` method to create the new column based on temperature.\r\n",
    "\r\n",
    "## Exercise 5: Merging DataFrames\r\n",
    "- **Task**: Assume you have another DataFrame with enzyme inhibition data. Merge it with the enzyme DataFrame based on enzyme names.\r\n",
    "- **Hint**: Use `pd.merge()` function and specify the 'name' column as the key.\r\n",
    "\r\n",
    "## Exercise 6: Handling Missing Data\r\n",
    "- **Task**: In the merged DataFrame, fill any missing inhibition data with the average inhibition value.\r\n",
    "- **Hint**: Use `fillna()` method on the DataFrame, replacing NaN values withng and analysis. Good luck!\r\n"
   ]
  },
  {
   "cell_type": "code",
   "execution_count": null,
   "id": "174c8c17-3e39-4541-9227-5e90b01fc02b",
   "metadata": {},
   "outputs": [],
   "source": [
    "# Your Answer Here"
   ]
  },
  {
   "cell_type": "markdown",
   "id": "f11dc18a-ec67-420a-bf4a-425fcb31bc82",
   "metadata": {},
   "source": [
    "## Solutions"
   ]
  },
  {
   "cell_type": "code",
   "execution_count": null,
   "id": "761a4650-e10b-442b-b00b-b62c48732d80",
   "metadata": {},
   "outputs": [],
   "source": [
    "# Importing necessary libraries\n",
    "import pandas as pd\n",
    "\n",
    "# Exercise 1: DataFrame Creation\n",
    "enzymes_dict = {\n",
    "    'Name': ['Lipase', 'Amylase', 'Protease'],\n",
    "    'Optimal_pH': [8.0, 7.0, 6.5],\n",
    "    'Optimal_Temperature': [37, 67, 50]  # in Celsius\n",
    "}\n",
    "enzymes_df = pd.DataFrame(enzymes_dict)\n",
    "print(\"Enzymes DataFrame:\\n\", enzymes_df)\n",
    "\n",
    "# Exercise 2: Data Access and Manipulation\n",
    "enzyme_temp = enzymes_df[['Name', 'Optimal_Temperature']]\n",
    "print(\"Enzymes and their Optimal Temperatures:\\n\", enzyme_temp)\n",
    "\n",
    "# Exercise 3: Filtering Data\n",
    "alkaline_enzymes = enzymes_df[enzymes_df['Optimal_pH'] > 7]\n",
    "print(\"Alkaline Enzymes:\\n\", alkaline_enzymes)\n",
    "\n",
    "# Exercise 4: Adding and Computing a New Column\n",
    "enzymes_df['Thermophilic'] = enzymes_df['Optimal_Temperature'].apply(lambda x: x > 60)\n",
    "print(\"Enzymes DataFrame with Thermophilic Column:\\n\", enzymes_df)\n",
    "\n",
    "# Exercise 5: Merging DataFrames\n",
    "# Assuming another DataFrame with inhibition data\n",
    "inhibition_data = pd.DataFrame({\n",
    "    'Name': ['Lipase', 'Amylase'],\n",
    "    'Inhibition': [50, 70]  # Inhibition in percentage\n",
    "})\n",
    "merged_df = pd.merge(enzymes_df, inhibition_data, on='Name', how='left')\n",
    "print(\"Merged DataFrame with Inhibition Data:\\n\", merged_df)\n",
    "\n",
    "# Exercise 6: Handling Missing Data\n",
    "merged_df['Inhibition'].fillna(merged_df['Inhibition'].mean(), inplace=True)\n",
    "print(\"Merged DataFrame with Missing Data Handled:\\n\", merged_df)\n"
   ]
  }
 ],
 "metadata": {
  "kernelspec": {
   "display_name": "Python 3 (ipykernel)",
   "language": "python",
   "name": "python3"
  },
  "language_info": {
   "codemirror_mode": {
    "name": "ipython",
    "version": 3
   },
   "file_extension": ".py",
   "mimetype": "text/x-python",
   "name": "python",
   "nbconvert_exporter": "python",
   "pygments_lexer": "ipython3",
   "version": "3.9.18"
  }
 },
 "nbformat": 4,
 "nbformat_minor": 5
}
