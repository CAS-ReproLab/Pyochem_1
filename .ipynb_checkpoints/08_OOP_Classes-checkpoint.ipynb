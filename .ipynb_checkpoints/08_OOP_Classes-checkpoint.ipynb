{
 "cells": [
  {
   "cell_type": "markdown",
   "id": "82b91eae-0abd-4f3e-b637-70a09175b6d0",
   "metadata": {},
   "source": [
    "# A Primer on Class Objects\n",
    "\n",
    "In scientific computing, it's helpful to manage complex data and operations in an organized manner. `Python classes` offer a way to encapsulate data (attributes) and functions (methods) into a single logical unit. This encapsulation allows for more readable, maintainable, and reusable code.\n",
    "\n",
    "## Defining a Basic Molecule Class\n",
    "\n",
    "In the following coding examples, we'll start by defining a simple class to represent a biochemical molecule. This class will have attributes that store the molecule's `name` and `molecular formula`.\n",
    "\n",
    "## Creating an Instance of the Molecule Class\n",
    "\n",
    "We'll then create an `instance` of the `Molecule class`. We'll use water (H2O) as an example.\n",
    "\n",
    "## Expanding the Class with Additional Functionality\n",
    "\n",
    "We will then expand our class to include more functionality, such as calculating the molecular weight.\n",
    "\n",
    "## Why Use Class Objects in Scientific Computing?\n",
    "\n",
    "Classes allow us to:\n",
    "\n",
    "1. **Encapsulate related data and operations**: Attributes and methods related to a molecule are grouped together.\n",
    "2. **Increase code readability and maintenance**: Classes provide a clear structure, making it easier to understand and modify the code.\n",
    "3. **Promote code reuse**: Once a class is defined, it can be reused multiple times to create various instances, reducing code duplication.\n",
    "\n",
    "## Conclusion\n",
    "\n",
    "Classes are a powerful tool, and allow us to combine data structures and operations into one object. This makes code more readable by shortening it (dramatically..) and also makes code more reusable by making complex operations modular. \n"
   ]
  },
  {
   "cell_type": "markdown",
   "id": "bdde2203-f159-44d3-ab1e-a6392fbd2541",
   "metadata": {},
   "source": [
    "## Code Example"
   ]
  },
  {
   "cell_type": "code",
   "execution_count": 1,
   "id": "1756c2a9-30e6-4f59-aa01-a45c06085364",
   "metadata": {},
   "outputs": [],
   "source": [
    "# This block defines the class. \n",
    "class Molecule:\n",
    "    def __init__(self, name, formula):\n",
    "        self.name = name\n",
    "        self.formula = formula\n",
    "\n",
    "    def display_info(self):\n",
    "        print(f\"Molecule: {self.name}\")\n",
    "        print(f\"Formula: {self.formula}\")"
   ]
  },
  {
   "cell_type": "code",
   "execution_count": 3,
   "id": "c569c2eb-55bd-4b64-aafe-698f059eea25",
   "metadata": {},
   "outputs": [
    {
     "name": "stdout",
     "output_type": "stream",
     "text": [
      "Molecule: Water\n",
      "Formula: H2O\n"
     ]
    }
   ],
   "source": [
    "# Now we can call the class with any pair of names and formulas that we define\n",
    "water = Molecule(\"Water\", \"H2O\")\n",
    "water.display_info()"
   ]
  },
  {
   "cell_type": "markdown",
   "id": "65418fe6-2954-4ebf-8618-76afb71f662a",
   "metadata": {},
   "source": [
    "## Challenge: use the molecule class to store the name and formula for glucose (C6H12O6)"
   ]
  },
  {
   "cell_type": "code",
   "execution_count": 4,
   "id": "6fe32912-29bf-49bb-ba3a-d410a5c4cf1d",
   "metadata": {},
   "outputs": [],
   "source": [
    "# Your Answer Here"
   ]
  },
  {
   "cell_type": "markdown",
   "id": "1b041454-fa42-4c8e-bf3f-71193ec37077",
   "metadata": {
    "jp-MarkdownHeadingCollapsed": true
   },
   "source": [
    "### Solution"
   ]
  },
  {
   "cell_type": "code",
   "execution_count": 3,
   "id": "01bd0b93-fc26-460b-9775-b4d552a54c89",
   "metadata": {},
   "outputs": [
    {
     "name": "stdout",
     "output_type": "stream",
     "text": [
      "Molecule: Glucose\n",
      "Formula: C6H12O6\n"
     ]
    }
   ],
   "source": [
    "glucose = Molecule(\"Glucose\", \"C6H12O6\")\n",
    "glucose.display_info()"
   ]
  },
  {
   "cell_type": "markdown",
   "id": "938751cc-42ce-46d7-a61e-ba510ae27fa5",
   "metadata": {},
   "source": [
    "# Explanation of the `self` Argument\n",
    "\n",
    "In class definitions, `self` is a reference to the `current instance` of the class and is used to access variables and methods that belong to the class.\n",
    "\n",
    "```python\n",
    "class Molecule: # name the class\n",
    "    \"\"\"\" Define the attributes or data structure \"\"\"\n",
    "    def __init__(self, name, formula): # Initiate the class and define the inputs\n",
    "        self.name = name # 'point' the inputs to the class so you can 'call' them later\n",
    "        self.formula = formula\n",
    "    \"\"\" Define the methods or operations \"\"\"\n",
    "    def display_info(self): # Name the operation and pass the attributes to it\n",
    "        print(f\"Molecule: {self.name}\") # Define what the operation will do\n",
    "        print(f\"Formula: {self.formula}\")\n",
    "```\n",
    "\n",
    "## Key Points about `self`:\n",
    "\n",
    "1. **Instance Initialization (`__init__` method)**: \n",
    "   - `__init__` is a special method called a constructor. It's automatically invoked when a new instance of the class is created.\n",
    "   - `self` in `__init__` allows us to set the initial state of the object by assigning values to its properties. \n",
    "   - In the example, `self.name` and `self.formula` are instance variables that are unique to each instance of the `Molecule` class.\n",
    "\n",
    "2. **Referencing Instance Variables**:\n",
    "   - Inside other methods of the class, `self` is used to reference these instance variables.\n",
    "   - In `display_info`, `self.name` and `self.formula` are used to access the name and formula of the specific instance of `Molecule`.\n",
    "\n",
    "3. **Why `self` is Necessary**:\n",
    "   - Without `self`, the class wouldn’t know which instance’s name and formula to use. This is crucial in scenarios where you have multiple instances of the class.\n",
    "\n",
    "4. **Passing `self` to Methods**:\n",
    "   - When you call a method on an instance, Python automatically passes the instance as the first argument to the method. This argument is what we refer to as `self`.\n",
    "   - For example, when you create a `Molecule` object and call `display_info`, you don’t need to pass the instance explicitly.\n",
    "\n",
    "## How to use it:\n",
    "\n",
    "```python\n",
    "water = Molecule(\"Water\", \"H2O\")\n",
    "water.display_info()  # Automatically passes `water` as `self` to `display_info`\n",
    "```\n",
    "\n",
    "In this example, when `display_info` is called on the `water` instance, `self` in `display_info` refers to `water`. Thus, `self.name` and `self.formula` will access the name and formula of `water`.butes and methods of different instances.\r\n",
    "hus, `self.name` and `self.formula` willutes and methods of different instances.\r\n",
    "\n",
    "> I imagine this is all a bit confusing.. methods, attributes, 'instances'... It took me awhile to get my head around these things too. Let's implement the code to see if that clarifies things a bit..)\r\n"
   ]
  },
  {
   "cell_type": "markdown",
   "id": "f58e1d43-fb43-46f5-b13d-7f9e8d60c497",
   "metadata": {},
   "source": [
    "## Giving the Molecule Class a More Useful Function\n",
    "Now that we've done something simple to illustrate the class concept, let's do something that's actually useful. Define a function to give the `molecule` class the ability to calculate the `molecular weight` from an input chemical formula. To keep it simple for now, we won't allow a comprehensive list of inputs, just a few common atoms found in organic molecules. \n",
    "\n",
    "- Our function will need to be assigned molecular weights for atoms, read the number of atoms from an input formula, and add up all of the weights. "
   ]
  },
  {
   "cell_type": "code",
   "execution_count": 6,
   "id": "5aaae7b5-3e89-4503-8d68-aa64af85d488",
   "metadata": {},
   "outputs": [
    {
     "name": "stdout",
     "output_type": "stream",
     "text": [
      "Molecule: Glucose\n",
      "Formula: C6H12O6\n",
      "Molecular Weight: 180.15 g/mol\n"
     ]
    }
   ],
   "source": [
    "def calculate_molecular_weight(formula):\n",
    "    # Dictionary mapping elements to their atomic weights\n",
    "    atomic_weights = {\n",
    "        'H': 1.008,   # Hydrogen\n",
    "        'C': 12.01,   # Carbon\n",
    "        'N': 14.007,  # Nitrogen\n",
    "        'O': 15.999,  # Oxygen\n",
    "        'S': 32.06    # Sulfur\n",
    "    }\n",
    "\n",
    "    molecular_weight = 0  # Initialize molecular weight to zero\n",
    "    element = ''          # Placeholder for the current element symbol\n",
    "    quantity = ''         # Placeholder for the quantity of the current element\n",
    "\n",
    "    # Iterate over each character in the formula string\n",
    "    for char in formula:\n",
    "        if char.isalpha():  # Check if the character is a letter (part of an element symbol)\n",
    "            if element:  # If an element is already stored, calculate its contribution to the molecular weight\n",
    "                molecular_weight += atomic_weights[element] * (int(quantity) if quantity else 1)\n",
    "            element = char  # Store the new element symbol\n",
    "            quantity = ''   # Reset the quantity for the new element\n",
    "        else:\n",
    "            quantity += char  # Append the character to the quantity if it's a digit\n",
    "\n",
    "    # Add the weight of the last element in the formula\n",
    "    molecular_weight += atomic_weights[element] * (int(quantity) if quantity else 1)\n",
    "\n",
    "    return molecular_weight  # Return the calculated molecular weight\n",
    "\n",
    "# Example usage (commented out)\n",
    "# print(calculate_molecular_weight(\"C6H12O6\"))  # Glucose\n",
    "# print(calculate_molecular_weight(\"C2H5OH\"))   # Ethanol\n",
    "\n",
    "# Definition of the Molecule class\n",
    "class Molecule:\n",
    "    def __init__(self, name, formula):\n",
    "        self.name = name  # Store the name of the molecule\n",
    "        self.formula = formula  # Store the chemical formula\n",
    "        # Calculate and store the molecular weight using the function above\n",
    "        self.molecular_weight = calculate_molecular_weight(formula)\n",
    "\n",
    "    def display_info(self):\n",
    "        # Print the molecule's information\n",
    "        print(f\"Molecule: {self.name}\")\n",
    "        print(f\"Formula: {self.formula}\")\n",
    "        print(f\"Molecular Weight: {self.molecular_weight} g/mol\")\n",
    "\n",
    "# Testing the expanded class\n",
    "Glucose = Molecule(\"Glucose\", \"C6H12O6\")  # Create an instance of Molecule for Glucose\n",
    "Glucose.display_info()  # Display information about the Glucose molecule\n"
   ]
  },
  {
   "cell_type": "markdown",
   "id": "4009c1b0-390d-45cd-82bf-60ff597f4a68",
   "metadata": {},
   "source": [
    "Pretty awesome right? If we made the effort to make a complete dictionary containing all of the molecular weights of the atoms in the periodic table, we could use the Molecule class to return the MW from any formula! "
   ]
  },
  {
   "cell_type": "markdown",
   "id": "a444c7fb-9e76-4f8f-82f2-a0e6a00fd8fc",
   "metadata": {},
   "source": [
    "## Challange: Create an `enzyme` class\n",
    "\n",
    "### Background\n",
    "\n",
    "Enzymes are proteins that act as catalysts to accelerate chemical reactions. The study of enzyme kinetics is crucial for understanding how these reactions occur and how they can be controlled. One of the basic models to describe enzyme kinetics is the Michaelis-Menten equation, which provides a way to calculate the rate of enzymatic reactions.\n",
    "\n",
    "### Problem Statement\n",
    "\n",
    "Your task is to create a Python class named `Enzyme` that models the behavior of an enzyme in a biochemical reaction. This class should have the following features:\n",
    "\n",
    "1. **Initialization**: The `__init__` method should initialize the enzyme with a `name` (string), `Km` value (Michaelis constant, a float), `Vmax` value (maximum reaction rate, a float), and `[S]` value (substrate concentration, a float).\n",
    "\n",
    "2. **Method to Calculate the initial velocity v0**: Implement a method `calculate_rate` that takes substrate concentration (`[S]`, a float) as an argument and returns the reaction rate based on the Michaelis-Menten equation.\n",
    "\n",
    "$${v_0} = \\frac{{Vmax}\\times{[S]}}{K_m + [S]}$$\n",
    "\n",
    "where `[S]` is the substrate concentration, `Vmax` is the maximum reaction rate, and `Km` is the Michaelis constant.\n",
    "\n",
    "3. **Display Function**: A method `display_info` that prints out the enzyme's name, `Km`, and `Vmax`.\n",
    "\n",
    "### Example Usage\n",
    "\n",
    "After implementing the `Enzyme` class, create an instance representing the enzyme 'Hexokinase' with `Km = 0.15 mM` and `Vmax = 100 µmol/min`. Then, calculate and print the reaction rate for a substrate concentration of `0.1 mM`.\n",
    "\n",
    "### Tips\n",
    "\n",
    "- Remember to handle the division operation carefully to avoid division by zero.\n",
    "- Ensure that your class is well-documented with comments.\r\n"
   ]
  },
  {
   "cell_type": "code",
   "execution_count": 5,
   "id": "b9a738a9-b0c5-48fe-8cf9-aee16dcd8818",
   "metadata": {},
   "outputs": [],
   "source": [
    "# Your Answer Here"
   ]
  },
  {
   "cell_type": "markdown",
   "id": "addca395-b635-4c45-8ded-9810707989d1",
   "metadata": {
    "jp-MarkdownHeadingCollapsed": true
   },
   "source": [
    "### Solution"
   ]
  },
  {
   "cell_type": "code",
   "execution_count": 7,
   "id": "6f83fed3-464d-40ea-b551-94ba313341ce",
   "metadata": {},
   "outputs": [
    {
     "name": "stdout",
     "output_type": "stream",
     "text": [
      "Enzyme: Hexokinase\n",
      "Km: 0.15 mM\n",
      "Vmax: 100 µmol/min\n",
      "Reaction rate: 40.0 µmol/min\n"
     ]
    }
   ],
   "source": [
    "class Enzyme:\n",
    "    def __init__(self, name, Km, Vmax):\n",
    "        self.name = name\n",
    "        self.Km = Km\n",
    "        self.Vmax = Vmax\n",
    "\n",
    "    def calculate_rate(self, substrate_concentration):\n",
    "        return (self.Vmax * substrate_concentration) / (self.Km + substrate_concentration)\n",
    "\n",
    "    def display_info(self):\n",
    "        print(f\"Enzyme: {self.name}\")\n",
    "        print(f\"Km: {self.Km} mM\")\n",
    "        print(f\"Vmax: {self.Vmax} µmol/min\")\n",
    "\n",
    "# Example usage\n",
    "hexokinase = Enzyme(\"Hexokinase\", 0.15, 100)\n",
    "hexokinase.display_info()\n",
    "reaction_rate = hexokinase.calculate_rate(0.1)\n",
    "print(f\"Reaction rate: {reaction_rate} µmol/min\")"
   ]
  }
 ],
 "metadata": {
  "kernelspec": {
   "display_name": "Python 3 (ipykernel)",
   "language": "python",
   "name": "python3"
  },
  "language_info": {
   "codemirror_mode": {
    "name": "ipython",
    "version": 3
   },
   "file_extension": ".py",
   "mimetype": "text/x-python",
   "name": "python",
   "nbconvert_exporter": "python",
   "pygments_lexer": "ipython3",
   "version": "3.9.18"
  }
 },
 "nbformat": 4,
 "nbformat_minor": 5
}
