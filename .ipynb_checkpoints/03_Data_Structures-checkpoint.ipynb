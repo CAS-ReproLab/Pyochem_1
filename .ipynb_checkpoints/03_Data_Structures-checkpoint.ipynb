{
 "cells": [
  {
   "cell_type": "markdown",
   "id": "762446b5-0538-4fcc-8782-ca2a87d28951",
   "metadata": {},
   "source": [
    "# A Primer on Python Data Structures\n",
    "- Simple variables store one value at a time.\n",
    "- Data structures allow us to store many values in a single variable\n",
    "- The different types- `lists`, `dictionaries`, `tuples`, `numpy arrays`, and `pandas dataframes` differ in the kind of information they store, their memory efficiency for certain types of data, and how the data can be accessed/changed. "
   ]
  },
  {
   "cell_type": "markdown",
   "id": "ed9e1a1f-68b4-455e-9257-19117450b693",
   "metadata": {},
   "source": [
    "## Lists\n",
    "- **Mutable**: Lists can be modified after creation (add, remove, or change items).\n",
    "- **Ordered**: The order of items is maintained, and items can be accessed by their position.\n",
    "- **Syntax**: Created using square brackets `[]`.\n",
    "- **Use Case**: Ideal for collections of items where the order matters and contents might change."
   ]
  },
  {
   "cell_type": "code",
   "execution_count": null,
   "id": "c46f3e0f-04a8-44fd-b598-7a7ac51634ab",
   "metadata": {},
   "outputs": [],
   "source": [
    "# Lists: Dynamic arrays, useful for storing collections of items.\n",
    "# --------------------------------------------------------------\n",
    "# Creating a list of common enzymes\n",
    "enzymes = [\"Ligase\", \"Helicase\", \"Polymerase\", \"Nuclease\"]\n",
    "print(\"List of Enzymes:\", enzymes)\n",
    "\n",
    "# Adding an enzyme to the list\n",
    "enzymes.append(\"Transferase\")\n",
    "print(\"Updated List of Enzymes:\", enzymes)\n",
    "\n",
    "# Accessing a specific enzyme by index\n",
    "print(\"Second Enzyme in the List:\", enzymes[1])"
   ]
  },
  {
   "cell_type": "markdown",
   "id": "8957d402-6b3c-4ab7-8e16-df5e1b763f97",
   "metadata": {},
   "source": [
    "### Some Useful Functions for Using Lists\n",
    "There are two types of syntax to consider: \n",
    "- **The function takes an item from a list as input**: In this case you should write something like `my_list.function()`. Note, these functions change the list in place. \n",
    "- **The function taks a list (iteratable) as an input**: In this case you should write something like `function(my_list)`. Note, it may be preferable to create a new list to make these modifications. \n",
    "\n",
    "1. **Appending and Extending:**\n",
    "   - `append(item)`: Adds an item to the end of the list.\n",
    "   - `extend(iterable)`: Extends the list by appending all the items from the iterable (e.g., another list).\n",
    "\n",
    "2. **Inserting and Removing Elements:**\n",
    "   - `insert(index, item)`: Inserts an item at a specified index.\n",
    "   - `remove(item)`: Removes the first occurrence of an item.\n",
    "   - `pop([index])`: Removes and returns an item at a given index (or the last item if index is not specified).\n",
    "\n",
    "3. **Finding Elements:**\n",
    "   - `index(item)`: Returns the index of the first occurrence of an item.\n",
    "   - `count(item)`: Returns the number of times an item appears in the list.\n",
    "\n",
    "4. **Sorting:**\n",
    "   - `sorted(iteratable)`: Sorts the items of the list.\n",
    "\n",
    "5. **Copying:**\n",
    "   - `copy(iteratable)`: Returns a shallow copy of the list.\n",
    "\n",
    "6. **Clearing:**\n",
    "   - `clear(iteratable)`: Removes all items from the list.\n",
    "\n",
    "7. **List Comprehensions:**\n",
    "   - A concise way to create lists. Uses `for` or `if` statements to iteratively create a list. \n",
    "   - `my_list = [x**2 for x in range(1,6)]` creates a list called my_list and fills it iteratively with the squares of 1-6.\n",
    "   - `my_list = [x**2 for x in range(1, 6) if x % 2 == 0]` creates a list called my_list and fills it with only the even squares of 1-6. The conditional: `x % 2 == 0`, is a modulo function. A modulo function takes a number and a divisor and returns the remainder. Here, it means: `if the remainder of the list number divided by 2 is equal to 0` it must be even, so we keep it in the list.  \n",
    "\n",
    "8. **Slicing:**\n",
    "   - Used for accessing a subset of list elements. Syntax: `list[start:stop:step]`. Where step is the interval size between each list element. \n",
    "\n",
    "9. **Conversion to/from Other Data Types:**\n",
    "   - `list(iterable)`: Converts an iterable (like a tuple, string, set, or dictionary) to a list.\n",
    "   - `str.join(iterable)`: Concatenates a list of strings into a single string, with elements separated by the specified separator.\n",
    "\n",
    "10. **Length:**\n",
    "    - `len(list)`: Returns the number of items in the list.ns the number of items in the list.\r\n"
   ]
  },
  {
   "cell_type": "code",
   "execution_count": null,
   "id": "daec4cf3-0829-4ca2-a121-952d4473cbae",
   "metadata": {},
   "outputs": [],
   "source": [
    "# A few examples\n",
    "my_list = [2,3,5,3,1,4,6,2,8] # Create the list\n",
    "print(my_list) # print the list\n",
    "\n",
    "print(len(my_list)) #print the length of the list\n",
    "\n",
    "print(my_list.count(2)) # return the number of times '2' appears in the list\n",
    "\n",
    "print(my_list.index(5)) # returns the index of 5; Note python starts counting at 0\n",
    "\n",
    "sorted_list = sorted(my_list, reverse = False) # sort the list; Also try this: sorted(my_list, reverse = True)\n",
    "print(sorted_list)"
   ]
  },
  {
   "cell_type": "markdown",
   "id": "af417014-d0e6-46d5-8dca-204124770a48",
   "metadata": {},
   "source": [
    "### Exercise 1: Lists\n",
    "- **Task 1**: Create a list, and try some of these functions out\n",
    "- **Task 2**: Create a list using a list comprehension."
   ]
  },
  {
   "cell_type": "code",
   "execution_count": null,
   "id": "8d5ddb8f-9cbb-41c5-b5cb-3a9312ab24ca",
   "metadata": {},
   "outputs": [],
   "source": [
    "# Your Answers Here; Create Additional Cells as Needed"
   ]
  },
  {
   "cell_type": "markdown",
   "id": "06573fcc-574a-42d8-9b55-da8f6d3d4d7d",
   "metadata": {},
   "source": [
    "## Tuples\n",
    "- **Immutable**: Once a tuple is created, it cannot be modified.\n",
    "- **Ordered**: Like lists, tuples maintain the order of items.\n",
    "- **Syntax**: Created using parentheses `()`.\n",
    "- **Use Case**: Suitable for fixed data sets, like coordinates or RGB color values.\n",
    "- We won't focus too much on these here (b/c they're not very exciting), but wanted you to know about them."
   ]
  },
  {
   "cell_type": "markdown",
   "id": "feaac2ec-b1f4-4061-8c85-651e9e775564",
   "metadata": {},
   "source": [
    "## Dictionaries\n",
    "- **Mutable**: Can change, add, or delete key-value pairs.\n",
    "- **Unordered**: Items are not stored in a specific order and are accessed via keys.\n",
    "- **Syntax**: Created using curly braces `{}` with key-value pairs.\n",
    "- **Use Case**: Perfect for associating keys with values, like mapping names to phone numbers."
   ]
  },
  {
   "cell_type": "code",
   "execution_count": null,
   "id": "d5165576-236a-4744-a9d2-8306d9d251bc",
   "metadata": {},
   "outputs": [],
   "source": [
    "# Dictionaries: Key-value pairs, great for mapping relationships.\n",
    "# ----------------------------------------------------------------\n",
    "# Creating a dictionary to map enzymes to their functions\n",
    "enzyme_functions = {\n",
    "    \"Ligase\": \"Joining of DNA strands\",\n",
    "    \"Helicase\": \"Unwinding DNA helix\",\n",
    "    \"Polymerase\": \"Polymerizing nucleotides\",\n",
    "    \"Nuclease\": \"Cutting DNA strands\"\n",
    "}\n",
    "print(\"Enzyme Functions:\", enzyme_functions)\n",
    "\n",
    "# Accessing a function by enzyme name\n",
    "print(\"Function of Helicase:\", enzyme_functions[\"Helicase\"])\n",
    "\n",
    "# Adding a new key-value pair\n",
    "enzyme_functions[\"Transferase\"] = \"Transfer of functional groups\"\n",
    "print(\"Updated Enzyme Functions:\", enzyme_functions)"
   ]
  },
  {
   "cell_type": "markdown",
   "id": "fef2898e-4b9a-464d-bb31-e319a035d56b",
   "metadata": {},
   "source": [
    "### Some Useful Functions for Using Dictionaries\n",
    "\n",
    "1. **Creating a Dictionary:**\n",
    "   - `{}` or `dict()`: Create an empty dictionary.\n",
    "   - `dict.fromkeys(sequence, value)`: Create a new dictionary with keys from `sequence` and values set to `value`.\n",
    "\n",
    "2. **Accessing Elements:**\n",
    "   - `dict[key]`: Access the item with key `key`. Raises a `KeyError` if the key is not found.\n",
    "   - `get(key, default=None)`: Returns the value for `key` if `key` is in the dictionary, else `default`.\n",
    "\n",
    "3. **Adding and Updating Elements:**\n",
    "   - `dict[key] = value`: Sets `dict[key]` to `value`, overwriting any existing value.\n",
    "   - `update([other])`: Updates the dictionary with the key/value pairs from `other`, overwriting existing keys.\n",
    "\n",
    "4. **Removing Elements:**\n",
    "   - `pop(key[, default])`: Remove the item with key `key` and return its value, or `default` if `key` is not found.\n",
    "   - `popitem()`: Removes and returns a `(key, value)` pair as a 2-tuple.\n",
    "   - `del dict[key]`: Removes `dict[key]` from the dictionary.\n",
    "   - `clear()`: Removes all items from the dictionary.\n",
    "\n",
    "5. **Keys, Values, and Items:**\n",
    "   - `keys()`: Returns a new view of the dictionary's keys.\n",
    "   - `values()`: Returns a new view of the dictionary's values.\n",
    "   - `items()`: Returns a new view of the dictionary’s items (`(key, value)` pairs).\n",
    "\n",
    "6. **Copying:**\n",
    "   - `copy()`: Returns a shallow copy of the dictionary.\n",
    "\n",
    "7. **Merging Dictionaries (Python 3.5+):**\n",
    "   - `{**d1, **d2}`: Creates a new dictionary by merging `d1` and `d2`.\n",
    "\n",
    "8. **Dictionary Comprehensions:**\n",
    "   - `{key: value for (key, value) in iterable}`: Similar to list comprehensions, but for dictionaries.\n",
    "   - `zip()`: Commonly used in combination with dictionary comprehensions to create dictionaries when you have separate lists of keys and values.\n",
    "    - Example: `my_dict = dict(zip(list_of_keys, list_of_values))`\n",
    "\n",
    "9. **Length:**\n",
    "   - `len(dict)`: Returns the number of items in the dictionary.\n",
    "\n",
    "10. **Membership Test:**\n",
    "    - `key in dict`: Returns `True` if `dict` has a key `key`, else `False`.\n",
    "\n",
    "11. **Nested Dictionaries:**\n",
    "    - Used for storing hierarchical or structured data.\n",
    "\n",
    "12. **Sorting:**\n",
    "    - `sorted(dict)`: Returns a sorted list of the dictionary's keys.)`rns a sorted list of the dictionary's keys.\r\n"
   ]
  },
  {
   "cell_type": "code",
   "execution_count": 1,
   "id": "df0db15c-22ef-4506-90c5-c43f429fb61c",
   "metadata": {},
   "outputs": [
    {
     "name": "stdout",
     "output_type": "stream",
     "text": [
      "{'Alanine': 'amino acid', 'Tyrosine': 'amino acid', 'Methionine': 'amino acid'}\n",
      "{'Adenosine': 'nucleic acid', 'Cytosine': 'nucleic acid', 'Guanosine': 'nucleic acid'}\n",
      "{'Alanine': 'amino acid', 'Tyrosine': 'amino acid', 'Methionine': 'amino acid', 'Adenosine': 'nucleic acid', 'Cytosine': 'nucleic acid', 'Guanosine': 'nucleic acid'}\n",
      "{'alanine': 'amino acid', 'adenosine': 'nucleic acid', 'pyruvate': 'keto acid'}\n"
     ]
    }
   ],
   "source": [
    "# Some useful examples\n",
    "\n",
    "# Create a dictionary where the keys all have the same value.\n",
    "keys = ['Alanine', 'Tyrosine', 'Methionine']\n",
    "values = 'amino acid'\n",
    "my_dict = dict.fromkeys(keys, values)\n",
    "print(my_dict)\n",
    "\n",
    "# Create another dictionary where the keys all have the same value.\n",
    "keys = ['Adenosine', 'Cytosine', 'Guanosine']\n",
    "values = 'nucleic acid'\n",
    "new_dict = dict.fromkeys(keys, values)\n",
    "print(new_dict)\n",
    "\n",
    "# Merge the two dictionaries into one\n",
    "combined_dict = {**my_dict, **new_dict}\n",
    "print(combined_dict)\n",
    "\n",
    "# Creating a dictionary from lists of keys and values using a dictionary comprehension\n",
    "keys = ['alanine', 'adenosine', 'pyruvate']\n",
    "values = ['amino acid', 'nucleic acid', 'keto acid']\n",
    "\n",
    "# Create a dictionary with different values for each key\n",
    "created_dict = {key: value for key, value in zip(keys, values)}\n",
    "print(created_dict) "
   ]
  },
  {
   "cell_type": "markdown",
   "id": "c925f106-0d60-4b26-9a39-006c9b012e82",
   "metadata": {},
   "source": [
    "### Exercise 2: Dictionaries\n",
    "- **Task 1**: Create two dictionaries, combine them into one, and print a specific key:value.\n",
    "- **Task 2**: Create a dictionary from a list of keys and a list of values using a dictionary comprehension"
   ]
  },
  {
   "cell_type": "code",
   "execution_count": null,
   "id": "6db74454-463b-4ac0-8697-193bef8ffb0d",
   "metadata": {},
   "outputs": [],
   "source": [
    "# Your Answers Here"
   ]
  },
  {
   "cell_type": "markdown",
   "id": "6db10292-2db4-437f-8dc5-2c92ad18edf9",
   "metadata": {},
   "source": [
    "## NumPy Arrays\n",
    "- **Mutable**: Elements can be modified, but the array's size is fixed.\n",
    "- **Ordered**: Elements are stored in a specific order.\n",
    "- **Syntax**: Created using `numpy.array()` function.\n",
    "- **Use Case**: Ideal for numerical operations, especially in scientific computing, due to its efficiency and the availability of vectorized operations. Perfect for linear algebra. Also great for encoding images (which are arrays of pixel values). \n",
    "- **Note**: Data type must be the same for every element in the array"
   ]
  },
  {
   "cell_type": "code",
   "execution_count": null,
   "id": "aad2d6ef-a38e-46b3-9f91-40f5a28214a1",
   "metadata": {},
   "outputs": [],
   "source": [
    "# NumPy Arrays: Efficient arrays for numerical data.\n",
    "# import the library\n",
    "import numpy as np\n",
    "# Creating a NumPy array of pH values\n",
    "ph_values = np.array([7.2, 7.4, 6.8, 7.0, 7.3])\n",
    "print(\"pH Values:\", ph_values)\n",
    "\n",
    "# Performing calculations on the entire array\n",
    "average_ph = np.mean(ph_values)\n",
    "print(\"Average pH:\", average_ph)"
   ]
  },
  {
   "cell_type": "markdown",
   "id": "360c72e0-e1dd-4e6f-bfe1-34141344b04a",
   "metadata": {},
   "source": [
    "### Some Useful Functions for Using NumPy Arrays\n",
    "\n",
    "NumPy is a fundamental package for scientific computing in Python. It provides a high-performance multidimensional array object and tools for working with these arrays.\n",
    "\n",
    "1. **Creating Arrays:**\n",
    "   - `np.array(list)`: Creates a NumPy array from a list or list of lists.\n",
    "   - `np.zeros(shape)`: Creates an array filled with zeros.\n",
    "   - `np.ones(shape)`: Creates an array filled with ones.\n",
    "   - `np.arange(start, stop, step)`: Creates an array with values from `start` to `stop` with `step` increments.\n",
    "   - `np.linspace(start, stop, num)`: Creates an array with `num` evenly spaced values over the specified interval.\n",
    "\n",
    "2. **Array Attributes:**\n",
    "   - `ndarray.shape`: Tuple of array dimensions.\n",
    "   - `ndarray.size`: Number of elements in the array.\n",
    "   - `ndarray.dtype`: Data type of the array elements.\n",
    "   - `ndarray.ndim`: Number of array dimensions.\n",
    "\n",
    "3. **Indexing and Slicing:**\n",
    "   - `array[index]`: Accesses an element.\n",
    "   - `array[start:stop:step]`: Slices the array.\n",
    "\n",
    "4. **Reshaping and Transposing:**\n",
    "   - `reshape(shape)`: Gives a new shape to an array without changing its data.\n",
    "   - `transpose()`: Permute the dimensions of an array.\n",
    "\n",
    "5. **Mathematical Operations:**\n",
    "   - `np.add()`, `np.subtract()`, `np.multiply()`, `np.divide()`: Basic arithmetic operations.\n",
    "   - `np.sqrt()`, `np.log()`, `np.exp()`: Square root, logarithm, and exponential.\n",
    "   - `np.sin()`, `np.cos()`, `np.tan()`: Trigonometric functions.\n",
    "\n",
    "6. **Aggregation Functions:**\n",
    "   - `np.sum()`, `np.mean()`, `np.median()`: Summation, mean, and median.\n",
    "   - `np.min()`, `np.max()`: Minimum and maximum.\n",
    "   - `np.std()`: Standard deviation.\n",
    "\n",
    "7. **Linear Algebra:**\n",
    "   - `np.dot()`: Dot product of two arrays.\n",
    "   - `np.linalg.inv()`: Inverse of a matrix.\n",
    "   - `np.linalg.eig()`: Eigenvalues and eigenvectors of a matrix.\n",
    "\n",
    "8. **Random Module:**\n",
    "   - `np.random.rand()`: Random values in a given shape.\n",
    "   - `np.random.randint()`: Random integers from a low to a high range.\n",
    "\n",
    "9. **Comparisons:**\n",
    "   - `np.equal()`, `np.greater()`, `np.less()`: Element-wise comparisons.\n",
    "\n",
    "10. **Combining/Splitting:**\n",
    "    - `np.concatenate()`, `np.vstack()`, `np.hstack()`: Combine arrays.\n",
    "    - `np.split()`, `np.vsplit()`, `np.hsplit()`: Split arrays.\n",
    "\n",
    "11. **Saving and Loading:**\n",
    "    - `np.save()`, `np.load()`: Save and load arrays to and from disk.\n"
   ]
  },
  {
   "cell_type": "code",
   "execution_count": null,
   "id": "d3b18334-5c6d-45e9-af62-32e26831fac9",
   "metadata": {},
   "outputs": [],
   "source": [
    "# Some useful examples\n",
    "\n",
    "# Create a 1D array\n",
    "my_list = [1,2,3,4,5]\n",
    "array_1D = np.array(my_list)\n",
    "print(array_1D)\n",
    "\n",
    "# Do math operations on the array; This is a very useful property of arrays\n",
    "print(array_1D * 2)\n",
    "\n",
    "# Create a 2D array from two lists\n",
    "first_list = [1,2,3,4,5]\n",
    "second_list = [5,4,3,2,1]\n",
    "array_2D = np.array([first_list, second_list]) # notice the use of []\n",
    "print(array_2D)"
   ]
  },
  {
   "cell_type": "markdown",
   "id": "2772bb35-1d6c-4698-9190-090e1eacabc8",
   "metadata": {},
   "source": [
    "### Exercise 3: Numpy Arrays\n",
    "- **Task 1**: Create a 2D array from two lists\n",
    "- **Task 2**: Create a second 2d array with the same dimensions, and subract the first array from the second"
   ]
  },
  {
   "cell_type": "code",
   "execution_count": null,
   "id": "b60b60ee-29dd-4e79-8e94-c29a1a904880",
   "metadata": {},
   "outputs": [],
   "source": [
    "# Your Answer Here"
   ]
  },
  {
   "cell_type": "markdown",
   "id": "1fe7c4e9-2029-475b-9c98-96336f636053",
   "metadata": {},
   "source": [
    "# Pandas DataFrames\r\n",
    "\r\n",
    "Pandas DataFrames are a fundamental tool in Python for data manipulation and analysi DataFrames are particularly useful for large multivariate datasets, such as gene expression fold change data, or single cell flow cytometry data. \n",
    "\n",
    ". Key features and uses include:\r\n",
    "\r\n",
    "- **Tabular Data Representation**: DataFrames provide a 2D table structure with rows and columns, similar to Excel spreadsheets or SQL tables.\r\n",
    "- **Heterogeneous Data Types**: Each column can hold different data types (e.g., int, float, string), making it ideal for real-world data.\r\n",
    "- **Data Manipulation**: Offers extensive functionality for modifying and transforming data, including adding/removing columns, filtering rows, and handling missing values.\r\n",
    "- **Data Analysis**: Facilitates data analysis with built-in functions for descriptive statistics, aggregation, and handling time-series data.\r\n",
    "- **Integration with Other Libraries**: Seamlessly works with other libraries like NumPy, Matplotlib, and Scikit-learn for numerical computing, plotting, and machine learnin\n",
    "- **Note**: Notice that the dataframes can be easily created from a dictionary, and that the dictionary keys become the column headers. The more practical way to create dataframes is to read them from a .csv or excel file. We'll cover that process in the File IO primer.g tasks.\r\n"
   ]
  },
  {
   "cell_type": "code",
   "execution_count": null,
   "id": "de755bff-1f0b-4095-a19e-a89e7934ae53",
   "metadata": {
    "scrolled": true
   },
   "outputs": [],
   "source": [
    "# Some useful examples\n",
    "import pandas as pd\n",
    "\n",
    "# Simulating gene expression data using a dictionary\n",
    "gene_expression_data = {\n",
    "    'gene': ['gene1', 'gene2', 'gene3', 'gene4', 'gene5'],\n",
    "    'raw_expression_level': [20, 55, 35, 80, 45],\n",
    "    'fold_change': [1, 2.5, -1, 3, .75]\n",
    "}\n",
    "gene_expression = pd.DataFrame(gene_expression_data)\n",
    "\n",
    "# Displaying the first few rows of the DataFrame\n",
    "print(\"print the first five rows of the dataframe:\\n\", gene_expression.head()) # note: the '\\n' adds a new line to keep the output nice and neat\n",
    "\n",
    "# Basic statistics for each gene\n",
    "print(\"print a table of summary statistics\\n\", gene_expression.describe())\n",
    "\n",
    "# Filtering genes with expression level above a threshold\n",
    "high_expression = gene_expression[gene_expression['raw_expression_level'] > 50]\n",
    "print(high_expression)\n"
   ]
  },
  {
   "cell_type": "markdown",
   "id": "eb8906d6-597f-48e9-a55e-f4cba684f960",
   "metadata": {},
   "source": [
    "### Some Useful Functions for Using Pandas DataFrames \r\n",
    "\r\n",
    "Pandas DataFrames offer a wide range of functions for data manipulation and analysis. Here are some commonly used functions:\r\n",
    "\r\n",
    "- **head()**: Displays the first few rows of the DataFrame.\r\n",
    "  df.head()\r\n",
    "\r\n",
    "- **describe()**: Provides a summary of statistics for numerical columns.\r\n",
    "  df.describe()\r\n",
    "\r\n",
    "- **groupby()**: Groups data by specified columns, useful for aggregation operations.\r\n",
    "  df.groupby('column_name').mean()\r\n",
    "\r\n",
    "- **merge()**: Merges two DataFrames based on a common column.\r\n",
    "  pd.merge(df1, df2, on='common_column')\r\n",
    "\r\n",
    "- **pivot_table()**: Creates a pivot table for data summarization.\r\n",
    "  df.pivot_table(values='value_column', index='row_column', columns='column_column')\r\n",
    "\r\n",
    "- **fillna()**: Fills NA/NaN values using a specified method.\r\n",
    "  df.fillna(method='ffill')\r\n"
   ]
  },
  {
   "cell_type": "markdown",
   "id": "af80d020-1523-449f-94ea-3d7cf7c25e88",
   "metadata": {},
   "source": [
    "### Exercise 4: DataFrames\n",
    "- **Task 1**: Create a dataframe that includes 5 molecules (rows) and two properties (columns) for each molecule\n",
    "- **Task 2**: Print the first  "
   ]
  },
  {
   "cell_type": "code",
   "execution_count": null,
   "id": "03175cbc-15e4-48a9-a1a1-83aa32e37505",
   "metadata": {},
   "outputs": [],
   "source": [
    "# Your answer here"
   ]
  },
  {
   "cell_type": "markdown",
   "id": "a2f460b3-d71e-4dea-9be5-4b7a2c3961b2",
   "metadata": {},
   "source": [
    "# Advanced Data Type Exercises\n",
    "\n",
    "## Exercise 1: Protein List Manipulation\n",
    "Given a list of proteins `[\"Hemoglobin\", \"Insulin\", \"Keratin\", \"Collagen\", \"Myosin\"]`, write a function named `add_protein` that adds a new protein to this list. The function should take two arguments: the list of proteins and the new protein to be added. After defining the function, add \"Actin\" to the list and print the updated list.\n",
    "\n",
    "## Exercise 2: Vitamin Tuple Iteration\n",
    "Create a tuple named `vitamins` containing the following vitamins: \"Vitamin A\", \"Vitamin B\", \"Vitamin C\", \"Vitamin D\". Write a loop that iterates through this tuple and prints each vitamin. Note: this works the same was as it would for a list.\n",
    "\n",
    "## Exercise 3: Amino Acid Molecular Weight Lookup\n",
    "Create a dictionary named `amino_acid_weights` with the following amino acids and their molecular weights: Alanine (89.1), Cysteine (121.2), Aspartic Acid (133.1). Write a function named `get_molecular_weight` that takes an amino acid name as an argument and returns its molecular weight. Test the function by finding the molecular weight of \"Alanine\".\n",
    "\n",
    "## Exercise 4: Analyzing Enzyme Activities with NumPy\n",
    "Using NumPy, generate an array of 10 random enzyme activity values. Name this array `enzyme_activities`. Calculate and print the mean and standard deviation of these activities.\n",
    "\n",
    "## Exercise 5: Protein Concentration Data Analysis with Pandas\n",
    "Create a Pandas DataFrame named `protein_data` with the following columns and values:\n",
    "- 'Protein': ['Protein A', 'Protein B', 'Protein A', 'Protein B', 'Protein A', 'Protein B']\n",
    "- 'Concentration': [20, 35, 25, 40, 30, 45]\n",
    "- 'Cell_Type': ['Eukaryotic', 'Prokaryotic', 'Eukaryotic', 'Prokaryotic', 'Eukaryotic', 'Prokaryotic']\n",
    "\n",
    "Perform the following tasks:\n",
    "1. Display the first 5 rows of the DataFrame.\n",
    "2. Calculate and print the average concentration for each protein.\n",
    "3. Calculate and print the total concentration for each cell type.\n",
    "on for each cell type.\r\n"
   ]
  },
  {
   "cell_type": "code",
   "execution_count": null,
   "id": "05127622-e29a-4858-b675-8930b9557847",
   "metadata": {},
   "outputs": [],
   "source": [
    "# Your answers here; Create new cells as needed    "
   ]
  },
  {
   "cell_type": "markdown",
   "id": "2daec9af-b435-4d06-97d5-40b3e826416d",
   "metadata": {},
   "source": [
    "## Solutions"
   ]
  },
  {
   "cell_type": "code",
   "execution_count": 3,
   "id": "7030eb54-a211-41c4-a4b3-a2490a1a184f",
   "metadata": {},
   "outputs": [
    {
     "name": "stdout",
     "output_type": "stream",
     "text": [
      "Updated Protein List: ['Hemoglobin', 'Insulin', 'Keratin', 'Collagen', 'Myosin', 'Actin']\n",
      "Vitamin: Vitamin A\n",
      "Vitamin: Vitamin B\n",
      "Vitamin: Vitamin C\n",
      "Vitamin: Vitamin D\n",
      "Molecular Weight of Alanine: 89.1\n",
      "Enzyme Activities: [0.95287396 0.52038228 0.55417223 0.99046294 0.93752784 0.98944538\n",
      " 0.12776423 0.23568532 0.94138047 0.92527361]\n",
      "Mean Activity: 0.7174968270913544\n",
      "Standard Deviation: 0.31480685546430076\n",
      "     Protein  Concentration    Cell_Type\n",
      "0  Protein A             20   Eukaryotic\n",
      "1  Protein B             35  Prokaryotic\n",
      "2  Protein A             25   Eukaryotic\n",
      "3  Protein B             40  Prokaryotic\n",
      "4  Protein A             30   Eukaryotic\n",
      "The average concentrations of each protein are\n",
      "            Concentration\n",
      "Protein                 \n",
      "Protein A             25\n",
      "Protein B             40\n",
      "The total concentration for each cell type is\n",
      "              Concentration\n",
      "Cell_Type                 \n",
      "Eukaryotic              75\n",
      "Prokaryotic            120\n"
     ]
    }
   ],
   "source": [
    "# Import necessary libraries\n",
    "import numpy as np\n",
    "import pandas as pd\n",
    "\n",
    "# Exercise 1: List Manipulation\n",
    "def add_protein(proteins, new_protein):\n",
    "    proteins.append(new_protein)\n",
    "    return proteins\n",
    "\n",
    "proteins = [\"Hemoglobin\", \"Insulin\", \"Keratin\", \"Collagen\", \"Myosin\"]\n",
    "new_protein = \"Actin\"\n",
    "updated_proteins = add_protein(proteins, new_protein)\n",
    "print(\"Updated Protein List:\", updated_proteins)\n",
    "\n",
    "# Exercise 2: Tuple Operations\n",
    "vitamins = (\"Vitamin A\", \"Vitamin B\", \"Vitamin C\", \"Vitamin D\")\n",
    "for vitamin in vitamins:\n",
    "    print(\"Vitamin:\", vitamin)\n",
    "\n",
    "# Exercise 3: Dictionary Handling\n",
    "amino_acid_weights = {\n",
    "    \"Alanine\": 89.1,\n",
    "    \"Cysteine\": 121.2,\n",
    "    \"Aspartic Acid\": 133.1\n",
    "}\n",
    "\n",
    "def get_molecular_weight(amino_acid):\n",
    "    return amino_acid_weights.get(amino_acid, \"Unknown\")\n",
    "\n",
    "print(\"Molecular Weight of Alanine:\", get_molecular_weight(\"Alanine\"))\n",
    "\n",
    "# Exercise 4: NumPy Array Calculations\n",
    "enzyme_activities = np.random.rand(10)\n",
    "print(\"Enzyme Activities:\", enzyme_activities)\n",
    "print(\"Mean Activity:\", np.mean(enzyme_activities))\n",
    "print(\"Standard Deviation:\", np.std(enzyme_activities))\n",
    "\n",
    "# Exercise 5: Dataframe challenge\n",
    "# Create a DataFrame\n",
    "protein_data = pd.DataFrame({\n",
    "    'Protein': ['Protein A', 'Protein B', 'Protein A', 'Protein B', 'Protein A', 'Protein B'],\n",
    "    'Concentration': [20, 35, 25, 40, 30, 45],\n",
    "    'Cell_Type': ['Eukaryotic', 'Prokaryotic', 'Eukaryotic', 'Prokaryotic', 'Eukaryotic', 'Prokaryotic']\n",
    "})\n",
    "\n",
    "# Display the first 5 rows\n",
    "print(protein_data.head())\n",
    "\n",
    "# Average concentration for each protein\n",
    "average_concentration = protein_data.groupby('Protein').mean()\n",
    "print(\"The average concentrations of each protein are\\n\", average_concentration)\n",
    "\n",
    "# Total concentration for each cell type\n",
    "total_concentration = protein_data.groupby('Cell_Type').sum()\n",
    "print(\"The total concentration for each cell type is\\n\", total_concentration)"
   ]
  }
 ],
 "metadata": {
  "kernelspec": {
   "display_name": "Python 3 (ipykernel)",
   "language": "python",
   "name": "python3"
  },
  "language_info": {
   "codemirror_mode": {
    "name": "ipython",
    "version": 3
   },
   "file_extension": ".py",
   "mimetype": "text/x-python",
   "name": "python",
   "nbconvert_exporter": "python",
   "pygments_lexer": "ipython3",
   "version": "3.9.18"
  }
 },
 "nbformat": 4,
 "nbformat_minor": 5
}
