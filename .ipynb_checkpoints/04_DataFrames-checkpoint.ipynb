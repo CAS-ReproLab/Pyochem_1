{
 "cells": [
  {
   "cell_type": "markdown",
   "id": "17027c24-2e47-4fac-9cdd-49af9975ea5c",
   "metadata": {},
   "source": [
    "# More on Pandas DataFrames\n",
    "pandas DataFrames are a fundamental tool in Python for data manipulation and analysis. Understanding these core concepts is essential for effective data handling in scientific computing, especially for large multivariate datasets.\n"
   ]
  },
  {
   "cell_type": "markdown",
   "id": "a54a9143-63ab-4c78-b00a-048af3079f08",
   "metadata": {},
   "source": [
    "## DataFrame Basics and Key Components\n",
    "- **Definition**: A DataFrame is a two-dimensional, size-mutable, and potentially heterogeneous tabular data structure with labeled axes (rows and columns). `Pandas dataframes` are made of `pandas series` data structures. Each series is a column. They behave like `numpy arrays`.  \n",
    "- **Creation**: DataFrames can be created from various data sources like lists, dictionaries, or reading from files (e.g., CSV, Excel). \n",
    "- **Rows and Columns**: DataFrames are composed of rows and columns, each row representing a record and each column a feature.\n",
    "- **Index**: Each row has an index, which can be numeric, string, or datetime. It's crucial for data alignment and manipulation.\n",
    "- **Data Types**: Columns can hold different types of data (integers, strings, floats, etc.)."
   ]
  },
  {
   "cell_type": "code",
   "execution_count": 2,
   "id": "461f249b-75fc-4a9c-b4dd-2483a307f938",
   "metadata": {},
   "outputs": [
    {
     "name": "stdout",
     "output_type": "stream",
     "text": [
      "Amino Acids DataFrame:\n",
      "        AminoAcid  MolecularWeight   pKa\n",
      "0        Alanine             89.1  2.34\n",
      "1       Cysteine            121.2  1.96\n",
      "2  Aspartic Acid            133.1  3.90\n",
      "3      Glutamine            146.1  2.17\n"
     ]
    }
   ],
   "source": [
    "# Sample dataframe\n",
    "# Importing necessary libraries\n",
    "import pandas as pd\n",
    "import numpy as np\n",
    "\n",
    "# Creating a DataFrame\n",
    "# --------------------\n",
    "# Example: Creating a DataFrame to store amino acid properties\n",
    "# Start by creating a dictionary with amino acid molecular weights keyed to their corresponding amino acid name\n",
    "amino_acids = {\n",
    "    'AminoAcid': ['Alanine', 'Cysteine', 'Aspartic Acid', 'Glutamine'],\n",
    "    'MolecularWeight': [89.1, 121.2, 133.1, 146.1],\n",
    "    'pKa': [2.34, 1.96, 3.9, 2.17]\n",
    "}\n",
    "# Convert the dictionary to a dataframe\n",
    "amino_acids_df = pd.DataFrame(amino_acids)\n",
    "print(\"Amino Acids DataFrame:\\n\", amino_acids_df)"
   ]
  },
  {
   "cell_type": "markdown",
   "id": "b5f1a6cd-e335-4779-8298-97abf99d3456",
   "metadata": {},
   "source": [
    "## Some useful descriptive methods\n",
    "The strength of dataframes are that the facilitate handling large, multivariate datasets. Here are some useful descriptive methods:\n",
    "1. head() - View the first few rows of the DataFrame\n",
    "2. tail() - View the last few rows of the DataFrame\n",
    "3. describe() - Get a summary of statistics for numeric columns\n",
    "4. info() - Get a concise summary of the DataFrame\n",
    "5. mean() - Calculate the mean of each numeric column\n",
    "6. median() - Calculate the median of each numeric column\n",
    "    \n",
    "**Note**: Because these are `methods`, you'll call them by appending them onto your dataframe of interest: i.e., dataframe.head()"
   ]
  },
  {
   "cell_type": "code",
   "execution_count": 5,
   "id": "72481035-7514-4fdd-ae6a-c8c6118d9c2e",
   "metadata": {},
   "outputs": [
    {
     "name": "stdout",
     "output_type": "stream",
     "text": [
      "       AminoAcid  MolecularWeight   pKa\n",
      "0        Alanine             89.1  2.34\n",
      "1       Cysteine            121.2  1.96\n",
      "2  Aspartic Acid            133.1  3.90\n",
      "3      Glutamine            146.1  2.17\n"
     ]
    }
   ],
   "source": [
    "# Print the first five lines of amino_acids_df\n",
    "print(amino_acids_df.head())\n",
    "\n",
    "# Try swapping out .head() with other methods. What does each one do?"
   ]
  },
  {
   "cell_type": "markdown",
   "id": "54feb39e-8a23-4d24-bee3-f8d3e0e94700",
   "metadata": {},
   "source": [
    "## Data Manipulation, Merging, and Sorting\n",
    "Above, we saw how to look at the data, pandas also maintains many powerful methods for manipulating the data, including:\n",
    "- **Selection**: Accessing specific rows, columns, or cells using loc, iloc, or column names.\n",
    "- **Filtering**: Extracting a subset of rows based on a condition.\n",
    "- **Adding Columns**: Enhancing DataFrames by calculating new columns or adding data.\n",
    "- **Aggregation**: Performing statistical operations like mean, median, sum, etc., on columns.\n",
    "- **Merging**: Combining two DataFrames based on common columns.\n",
    "- **Reading Data**: Loading data from various file formats into DataFrames.\n",
    "- **Writing Data**: Exporting DataFrames to different file formats for storage or further analysis.\n",
    "\n",
    "Check the [documentation](https://pandas.pydata.org/docs/user_guide/index.html) for other useful applications such as:\n",
    "\n",
    "- **Joining**: Linking DataFrames using their indexes.\n",
    "- **Detection**: Identifying missing or NaN values in the DataFrame.\n",
    "- **Filling**: Replacing missing values with specific values or statistical measures (mean, median).\n",
    "- **Dropping**: Removing rows or columns with missing values.\n"
   ]
  },
  {
   "cell_type": "code",
   "execution_count": 25,
   "id": "05978625-bee9-40c6-a164-5e34629dbc0a",
   "metadata": {},
   "outputs": [
    {
     "name": "stdout",
     "output_type": "stream",
     "text": [
      "0          Alanine\n",
      "1         Cysteine\n",
      "2    Aspartic Acid\n",
      "3        Glutamine\n",
      "Name: AminoAcid, dtype: object\n",
      "       AminoAcid   pKa\n",
      "0        Alanine  2.34\n",
      "1       Cysteine  1.96\n",
      "2  Aspartic Acid  3.90\n",
      "3      Glutamine  2.17\n",
      "AminoAcid          Cysteine\n",
      "MolecularWeight       121.2\n",
      "pKa                    1.96\n",
      "Name: 1, dtype: object\n",
      "       AminoAcid  MolecularWeight   pKa\n",
      "1       Cysteine            121.2  1.96\n",
      "2  Aspartic Acid            133.1  3.90\n"
     ]
    }
   ],
   "source": [
    "# Examples of Selection of Entries from Dataframes\n",
    "\n",
    "# Selecting a single column\n",
    "single_col = amino_acids_df['AminoAcid']\n",
    "print(single_col)\n",
    "\n",
    "# Selecting multiple columns\n",
    "mult_col = amino_acids_df[['AminoAcid', 'pKa']]\n",
    "print(mult_col)\n",
    "\n",
    "# Selecting a row by index using .loc[]\n",
    "row = amino_acids_df.loc[1]\n",
    "print(row)\n",
    "\n",
    "# Selecting a row range .iloc[]\n",
    "row_range = amino_acids_df.iloc[1:3]\n",
    "print(row_range)"
   ]
  },
  {
   "cell_type": "code",
   "execution_count": 13,
   "id": "74baa02b-bf6a-4ee7-891c-cd687c3ea658",
   "metadata": {},
   "outputs": [
    {
     "name": "stdout",
     "output_type": "stream",
     "text": [
      "Heavy Amino Acids:\n",
      "        AminoAcid  MolecularWeight   pKa\n",
      "1       Cysteine            121.2  1.96\n",
      "2  Aspartic Acid            133.1  3.90\n",
      "3      Glutamine            146.1  2.17\n"
     ]
    }
   ],
   "source": [
    "# Filtering for amino acids with a molecular weight greater than 120\n",
    "heavy_amino_acids = amino_acids_df[amino_acids_df['MolecularWeight'] > 120]\n",
    "print(\"Heavy Amino Acids:\\n\", heavy_amino_acids)"
   ]
  },
  {
   "cell_type": "code",
   "execution_count": 30,
   "id": "576cb370-07fd-4664-8279-ef1514b45e1b",
   "metadata": {},
   "outputs": [
    {
     "name": "stdout",
     "output_type": "stream",
     "text": [
      "Amino Acids with Mass:\n",
      "        AminoAcid  MolecularWeight   pKa   Mass\n",
      "0        Alanine             89.1  2.34  178.2\n",
      "1       Cysteine            121.2  1.96  242.4\n",
      "2  Aspartic Acid            133.1  3.90  266.2\n",
      "3      Glutamine            146.1  2.17  292.2\n"
     ]
    }
   ],
   "source": [
    "# Adding a new column: Calculating the mass of amino acids in two moles of substance (grams)\n",
    "amino_acids_df['Mass'] = amino_acids_df['MolecularWeight'] * 2\n",
    "print(\"Amino Acids with Mass:\\n\", amino_acids_df)"
   ]
  },
  {
   "cell_type": "code",
   "execution_count": 31,
   "id": "b0120a0e-d915-4178-912c-ad5c2a851b0e",
   "metadata": {},
   "outputs": [
    {
     "name": "stdout",
     "output_type": "stream",
     "text": [
      "Average Molecular Weight: 122.375\n"
     ]
    }
   ],
   "source": [
    "# Aggregation: Calculating average molecular weight\n",
    "average_weight = amino_acids_df['MolecularWeight'].mean()\n",
    "print(\"Average Molecular Weight:\", average_weight)"
   ]
  },
  {
   "cell_type": "code",
   "execution_count": 3,
   "id": "535abed4-34fa-45fd-817d-963ad1afcb86",
   "metadata": {
    "scrolled": true
   },
   "outputs": [
    {
     "name": "stdout",
     "output_type": "stream",
     "text": [
      "Merged DataFrame with Solubility:\n",
      "        AminoAcid  MolecularWeight   pKa  Solubility\n",
      "0        Alanine             89.1  2.34       167.0\n",
      "1       Cysteine            121.2  1.96       200.0\n",
      "2  Aspartic Acid            133.1  3.90         NaN\n",
      "3      Glutamine            146.1  2.17       180.0\n"
     ]
    }
   ],
   "source": [
    "# DataFrame Merging and Joining\n",
    "# Example: Merging with another DataFrame\n",
    "# Assume we have another DataFrame with solubility data\n",
    "solubility_data = pd.DataFrame({\n",
    "    'AminoAcid': ['Alanine', 'Cysteine', 'Glutamine'],\n",
    "    'Solubility': [167, 200, 180]  # Solubility in g/L\n",
    "})\n",
    "merged_df = pd.merge(amino_acids_df, solubility_data, on='AminoAcid', how='left')\n",
    "print(\"Merged DataFrame with Solubility:\\n\", merged_df)"
   ]
  },
  {
   "cell_type": "code",
   "execution_count": 4,
   "id": "0253dc4c-a331-4220-aa39-67d21e45304c",
   "metadata": {},
   "outputs": [
    {
     "name": "stdout",
     "output_type": "stream",
     "text": [
      "DataFrame with Missing Values Handled:\n",
      "        AminoAcid  MolecularWeight   pKa  Solubility\n",
      "0        Alanine             89.1  2.34  167.000000\n",
      "1       Cysteine            121.2  1.96  200.000000\n",
      "2  Aspartic Acid            133.1  3.90  182.333333\n",
      "3      Glutamine            146.1  2.17  180.000000\n"
     ]
    }
   ],
   "source": [
    "# Handling Missing Data\n",
    "# Filling missing values with a default value (e.g., average solubility)\n",
    "merged_df['Solubility'].fillna(merged_df['Solubility'].mean(), inplace=True)\n",
    "print(\"DataFrame with Missing Values Handled:\\n\", merged_df)"
   ]
  },
  {
   "cell_type": "code",
   "execution_count": 10,
   "id": "98249abb-dc6d-4f98-a42b-87c3c169698b",
   "metadata": {
    "scrolled": true
   },
   "outputs": [
    {
     "name": "stdout",
     "output_type": "stream",
     "text": [
      "(22, 7)\n"
     ]
    },
    {
     "data": {
      "text/html": [
       "<div>\n",
       "<style scoped>\n",
       "    .dataframe tbody tr th:only-of-type {\n",
       "        vertical-align: middle;\n",
       "    }\n",
       "\n",
       "    .dataframe tbody tr th {\n",
       "        vertical-align: top;\n",
       "    }\n",
       "\n",
       "    .dataframe thead th {\n",
       "        text-align: right;\n",
       "    }\n",
       "</style>\n",
       "<table border=\"1\" class=\"dataframe\">\n",
       "  <thead>\n",
       "    <tr style=\"text-align: right;\">\n",
       "      <th></th>\n",
       "      <th>#id</th>\n",
       "      <th>full name</th>\n",
       "      <th>three letter code</th>\n",
       "      <th>single letter code</th>\n",
       "      <th>monoisotopic mass</th>\n",
       "      <th>average mass</th>\n",
       "      <th>composition</th>\n",
       "    </tr>\n",
       "  </thead>\n",
       "  <tbody>\n",
       "    <tr>\n",
       "      <th>0</th>\n",
       "      <td>0</td>\n",
       "      <td>Glycine</td>\n",
       "      <td>Gly</td>\n",
       "      <td>G</td>\n",
       "      <td>57.021464</td>\n",
       "      <td>57.05</td>\n",
       "      <td>C2H3NO</td>\n",
       "    </tr>\n",
       "    <tr>\n",
       "      <th>1</th>\n",
       "      <td>1</td>\n",
       "      <td>Alanine</td>\n",
       "      <td>Ala</td>\n",
       "      <td>A</td>\n",
       "      <td>71.037114</td>\n",
       "      <td>71.08</td>\n",
       "      <td>C3H5NO</td>\n",
       "    </tr>\n",
       "    <tr>\n",
       "      <th>2</th>\n",
       "      <td>2</td>\n",
       "      <td>Serine</td>\n",
       "      <td>Ser</td>\n",
       "      <td>S</td>\n",
       "      <td>87.032029</td>\n",
       "      <td>87.08</td>\n",
       "      <td>C3H5NO2</td>\n",
       "    </tr>\n",
       "    <tr>\n",
       "      <th>3</th>\n",
       "      <td>3</td>\n",
       "      <td>Proline</td>\n",
       "      <td>Pro</td>\n",
       "      <td>P</td>\n",
       "      <td>97.052764</td>\n",
       "      <td>97.12</td>\n",
       "      <td>C5H7NO</td>\n",
       "    </tr>\n",
       "    <tr>\n",
       "      <th>4</th>\n",
       "      <td>4</td>\n",
       "      <td>Valine</td>\n",
       "      <td>Val</td>\n",
       "      <td>V</td>\n",
       "      <td>99.068414</td>\n",
       "      <td>99.13</td>\n",
       "      <td>C5H9NO</td>\n",
       "    </tr>\n",
       "  </tbody>\n",
       "</table>\n",
       "</div>"
      ],
      "text/plain": [
       "   #id full name three letter code single letter code  monoisotopic mass  \\\n",
       "0    0   Glycine               Gly                  G          57.021464   \n",
       "1    1   Alanine               Ala                  A          71.037114   \n",
       "2    2    Serine               Ser                  S          87.032029   \n",
       "3    3   Proline               Pro                  P          97.052764   \n",
       "4    4    Valine               Val                  V          99.068414   \n",
       "\n",
       "   average mass composition  \n",
       "0         57.05      C2H3NO  \n",
       "1         71.08      C3H5NO  \n",
       "2         87.08     C3H5NO2  \n",
       "3         97.12      C5H7NO  \n",
       "4         99.13      C5H9NO  "
      ]
     },
     "execution_count": 10,
     "metadata": {},
     "output_type": "execute_result"
    }
   ],
   "source": [
    "# Reading data from a .csv file\n",
    "df = pd.read_csv('amino_acids.csv') # Make sure to have the amino_acids.csv file in your current working directory\n",
    "print(df.shape) # rows x columns\n",
    "df.head() # try df.info(), df.describe()"
   ]
  },
  {
   "cell_type": "code",
   "execution_count": 9,
   "id": "a98f9cc6-bda4-4202-a06e-ec2b841afe0f",
   "metadata": {},
   "outputs": [
    {
     "data": {
      "text/plain": [
       "(7, 7)"
      ]
     },
     "execution_count": 9,
     "metadata": {},
     "output_type": "execute_result"
    }
   ],
   "source": [
    "# Filter the dataframe \n",
    "filtered_df = df[df['average mass'] <= 100]\n",
    "filtered_df.shape"
   ]
  },
  {
   "cell_type": "code",
   "execution_count": 11,
   "id": "9ac4f698-f125-46ba-ade5-170eef30f6df",
   "metadata": {},
   "outputs": [],
   "source": [
    "# Write the new dataframe to a new .csv file\n",
    "filtered_df.to_csv('filtered_amino_acids.csv', index = False) # will write to your current working directory"
   ]
  },
  {
   "cell_type": "markdown",
   "id": "52f46de4-3e86-4f2b-bfec-c8f380fa87de",
   "metadata": {},
   "source": [
    "# Exercises\r\n",
    "\r\n",
    "## Exercise 1: DataFrame Creation\r\n",
    "- **Task**: Create a DataFrame for storing data about different enzymes, including their names, optimal pH, and temperature.\r\n",
    "- **Hint**: Define a dictionary with enzyme information and convert it into a DataFrame using `pd.DataFrame()`.\r\n",
    "\r\n",
    "## Exercise 2: Data Access and Manipulation\r\n",
    "- **Task**: From the enzyme DataFrame, select and print only the names and optimal temperatures of enzymes.\r\n",
    "- **Hint**: Use DataFrame indexing to select specific columns.\r\n",
    "\r\n",
    "## Exercise 3: Filtering Data\r\n",
    "- **Task**: Filter and display enzymes that operate at a pH greater than 7.\r\n",
    "- **Hint**: Use a boolean condition to filter rows based on pH values.\r\n",
    "\r\n",
    "## Exercise 4: Adding and Computing a New Column\r\n",
    "- **Task**: Add a new column to the enzyme DataFrame that indicates whether the enzyme is thermophilic (optimal temperature > 60°C).\r\n",
    "- **Hint**: Use a lambda function and `apply()` method to create the new column based on temperature.\r\n",
    "\r\n",
    "## Exercise 5: Merging DataFrames\r\n",
    "- **Task**: Assume you have another DataFrame with enzyme inhibition data. Merge it with the enzyme DataFrame based on enzyme names.\r\n",
    "- **Hint**: Use `pd.merge()` function and specify the 'name' column as the key.\r\n",
    "\r\n",
    "## Exercise 6: Handling Missing Data\r\n",
    "- **Task**: In the merged DataFrame, fill any missing inhibition data with the average inhibition value.\r\n",
    "- **Hint**: Use `fillna()` method on the DataFrame, replacing NaN values withng and analysis. Good luck!\r\n"
   ]
  },
  {
   "cell_type": "code",
   "execution_count": null,
   "id": "174c8c17-3e39-4541-9227-5e90b01fc02b",
   "metadata": {},
   "outputs": [],
   "source": [
    "# Your Answers Here; create new blocks as needed"
   ]
  },
  {
   "cell_type": "markdown",
   "id": "f11dc18a-ec67-420a-bf4a-425fcb31bc82",
   "metadata": {
    "jp-MarkdownHeadingCollapsed": true
   },
   "source": [
    "## Solutions"
   ]
  },
  {
   "cell_type": "code",
   "execution_count": null,
   "id": "761a4650-e10b-442b-b00b-b62c48732d80",
   "metadata": {},
   "outputs": [],
   "source": [
    "# Importing necessary libraries\n",
    "import pandas as pd\n",
    "\n",
    "# Exercise 1: DataFrame Creation\n",
    "enzymes_dict = {\n",
    "    'Name': ['Lipase', 'Amylase', 'Protease'],\n",
    "    'Optimal_pH': [8.0, 7.0, 6.5],\n",
    "    'Optimal_Temperature': [37, 67, 50]  # in Celsius\n",
    "}\n",
    "enzymes_df = pd.DataFrame(enzymes_dict)\n",
    "print(\"Enzymes DataFrame:\\n\", enzymes_df)\n",
    "\n",
    "# Exercise 2: Data Access and Manipulation\n",
    "enzyme_temp = enzymes_df[['Name', 'Optimal_Temperature']]\n",
    "print(\"Enzymes and their Optimal Temperatures:\\n\", enzyme_temp)\n",
    "\n",
    "# Exercise 3: Filtering Data\n",
    "alkaline_enzymes = enzymes_df[enzymes_df['Optimal_pH'] > 7]\n",
    "print(\"Alkaline Enzymes:\\n\", alkaline_enzymes)\n",
    "\n",
    "# Exercise 4: Adding and Computing a New Column\n",
    "enzymes_df['Thermophilic'] = enzymes_df['Optimal_Temperature'].apply(lambda x: x > 60)\n",
    "print(\"Enzymes DataFrame with Thermophilic Column:\\n\", enzymes_df)\n",
    "\n",
    "# Exercise 5: Merging DataFrames\n",
    "# Assuming another DataFrame with inhibition data\n",
    "inhibition_data = pd.DataFrame({\n",
    "    'Name': ['Lipase', 'Amylase'],\n",
    "    'Inhibition': [50, 70]  # Inhibition in percentage\n",
    "})\n",
    "merged_df = pd.merge(enzymes_df, inhibition_data, on='Name', how='left')\n",
    "print(\"Merged DataFrame with Inhibition Data:\\n\", merged_df)\n",
    "\n",
    "# Exercise 6: Handling Missing Data\n",
    "merged_df['Inhibition'].fillna(merged_df['Inhibition'].mean(), inplace=True)\n",
    "print(\"Merged DataFrame with Missing Data Handled:\\n\", merged_df)\n"
   ]
  }
 ],
 "metadata": {
  "kernelspec": {
   "display_name": "Python 3 (ipykernel)",
   "language": "python",
   "name": "python3"
  },
  "language_info": {
   "codemirror_mode": {
    "name": "ipython",
    "version": 3
   },
   "file_extension": ".py",
   "mimetype": "text/x-python",
   "name": "python",
   "nbconvert_exporter": "python",
   "pygments_lexer": "ipython3",
   "version": "3.9.18"
  }
 },
 "nbformat": 4,
 "nbformat_minor": 5
}
