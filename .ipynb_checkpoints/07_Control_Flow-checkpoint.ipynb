{
 "cells": [
  {
   "cell_type": "markdown",
   "id": "0f6fe685-796a-4131-85d6-92e3c55ec4ba",
   "metadata": {},
   "source": [
    "# A primer on Control Flow\n",
    "\n",
    "- Control flow refers to the order in which the program's code executes.\n",
    "- It determines how and when the code inside a program is run, which is how programs  make decisions, repeat actions, and handle different data inputs.\n",
    "- The control flow of a program is directed using conditional statements, loops, and function calls."
   ]
  },
  {
   "cell_type": "markdown",
   "id": "955d4310-72c3-4bc0-8f81-d337c7f6e15a",
   "metadata": {},
   "source": [
    "## If-Else Statements\n",
    "- **Purpose**: Used for decision-making in a program.\n",
    "- **Structure**: Consists of `if`, `elif` (else if), and `else` blocks.\n",
    "- **Behavior**: Executes a block of code based on condition evaluation. Only one block in the `if-else` chain is executed per condition check.\n",
    "- **Use Case**: Ideal for branching paths in a program, like categorizing data or handling different input cases."
   ]
  },
  {
   "cell_type": "code",
   "execution_count": null,
   "id": "3c7924c1-7cf6-461e-aa0a-54329a8565d1",
   "metadata": {},
   "outputs": [],
   "source": [
    "# Example: A function for determining if a pH value is acidic, basic, or neutral\n",
    "def classify_ph(ph_value):\n",
    "    if ph_value < 7: # if True, return acidic... \n",
    "        return \"Acidic\" \n",
    "    elif ph_value > 7: # if True, return basic...\n",
    "        return \"Basic\"\n",
    "    else:\n",
    "        return \"Neutral\" # if all previous are False, return neutral...\n",
    "\n",
    "# Testing the function\n",
    "ph_test = 7.4\n",
    "print(f\"pH {ph_test} is {classify_ph(ph_test)}\")"
   ]
  },
  {
   "cell_type": "markdown",
   "id": "709778b7-6758-45c7-a08b-b5481a1986aa",
   "metadata": {},
   "source": [
    "### Exercise 1: If Else Decision Statements\n",
    "**Task**: Create a function that takes the pKa of a weak acid and a pH value of the solution as inputs.\n",
    "- Test whether the two values are equal.\n",
    "- If they are equal print \"50% of the weak acid molecules are protonated\". Note, must use '==' as equals in conditional statements (rather than '='). \n",
    "- Else if the pH > pKa, print \"< 50% of the weak acid molecules are protonated\"\n",
    "- Else, print \"> 50% of the weak acid molecules are protonated\""
   ]
  },
  {
   "cell_type": "code",
   "execution_count": null,
   "id": "314f96d5-a195-44b0-a5e2-779515391796",
   "metadata": {},
   "outputs": [],
   "source": [
    "# your answer here"
   ]
  },
  {
   "cell_type": "markdown",
   "id": "180eeba3-ed61-479d-9a79-c2279864a69c",
   "metadata": {},
   "source": [
    "## For Loops\n",
    "- **Purpose**: Designed for iterating over sequences (like lists, tuples, strings) or ranges.\n",
    "- **Structure**: Defined with a `for` keyword, followed by a variable name and a sequence.\n",
    "- **Behavior**: Iterates over each item in the sequence, executing the block of code for each item.\n",
    "- **Use Case**: Useful for operations that require action on every element of a sequence, such as data processing or aggregation tasks."
   ]
  },
  {
   "cell_type": "code",
   "execution_count": null,
   "id": "9db79812-c853-4ed6-a3f8-96e0e0138ae2",
   "metadata": {},
   "outputs": [],
   "source": [
    "# Example: Calculating the average molecular weight of a dictionary of amino acids and molecular weights\n",
    "amino_acids = {'Alanine': 89.1, 'Cysteine': 121.2, 'Aspartic Acid': 133.1}\n",
    "total_weight = 0\n",
    "for weight in amino_acids.values():\n",
    "    total_weight += weight # this is equivalent to total_weight = total_weight + weight\n",
    "average_weight = total_weight / len(amino_acids)\n",
    "print(\"Average Molecular Weight:\", average_weight)"
   ]
  },
  {
   "cell_type": "markdown",
   "id": "4b598b29-44ca-497d-b8ea-c2642f688e47",
   "metadata": {},
   "source": [
    "### Exercise 2: For loops\n",
    "**Task**: create a dictionary of molecule names and molecular weights\n",
    "- For each molecule in the dictionary, test whether the molecular weight is above or below a cutoff value"
   ]
  },
  {
   "cell_type": "code",
   "execution_count": null,
   "id": "8324c599-3d30-40ea-841f-e767cdf00dcd",
   "metadata": {},
   "outputs": [],
   "source": [
    "# Your answer here"
   ]
  },
  {
   "cell_type": "markdown",
   "id": "ce80b54e-c7d0-47e6-958c-3ff426f145a0",
   "metadata": {},
   "source": [
    "## While Loops\n",
    "- **Purpose**: Executes a block of code repeatedly as long as a condition is true.\n",
    "- **Structure**: Starts with the `while` keyword, followed by a condition.\n",
    "- **Behavior**: Continuously executes the code block until the condition becomes false.\n",
    "- **Use Case**: Best suited for scenarios where the number of iterations is not known in advance, like waiting for a specific event or condition."
   ]
  },
  {
   "cell_type": "code",
   "execution_count": null,
   "id": "ff942584-0a1d-4c49-b4f8-6dd277194caa",
   "metadata": {},
   "outputs": [],
   "source": [
    "# Example: Simulating a reaction until a substrate concentration falls below a threshold\n",
    "substrate_concentration = 100  # initial concentration\n",
    "product_concentration = 0\n",
    "reaction_rate = 0.1  # rate of conversion of substrate to product\n",
    "\n",
    "while substrate_concentration > 10:\n",
    "    substrate_concentration -= reaction_rate * substrate_concentration\n",
    "    product_concentration += reaction_rate * substrate_concentration\n",
    "    print(f\"Substrate: {substrate_concentration:.2f}, Product: {product_concentration:.2f}\")"
   ]
  },
  {
   "cell_type": "markdown",
   "id": "735abb7c-3d82-4ff5-a13f-d35beec61bcf",
   "metadata": {},
   "source": [
    "### Exercise 3: While Loops\n",
    "**Task**: Create a while loop to simulate a reaction that involves two substrates combining to form a single product.\n",
    "- Include a variable that defines the substrate concentration threshold\n",
    "- Print only the ratio of substrate/product rather than each value separately"
   ]
  },
  {
   "cell_type": "code",
   "execution_count": null,
   "id": "67e0b54f-7223-4fc4-8ab1-fedd08b7da89",
   "metadata": {},
   "outputs": [],
   "source": [
    "# Your Answer Here"
   ]
  },
  {
   "cell_type": "markdown",
   "id": "48e8a256-5e9d-4b71-8112-e8416313206c",
   "metadata": {},
   "source": [
    "## Quick Review and a Few Additional Points..\n",
    "The previous primer focused on conditional statements and loops. Here we'll add a few addional concepts that are useful for error handling.\n",
    "\n",
    "**Review**:\n",
    "\n",
    "1. Conditional Statements (`if`, `elif`, `else`)\n",
    "\n",
    "- **`if` Statement**: Used to execute a block of code if a certain condition is true.\n",
    "- **`elif` (else if) Statement**: Follows an `if` statement and is used to check multiple conditions, one after the other.\n",
    "- **`else` Statement**: Used after `if` and `elif` statements to define a block of code to be executed if all previous conditions are false.\n",
    "\n",
    "2. Loops\n",
    "\n",
    "- **`for` Loop**: Used for iterating over a sequence (like a list, tuple, dictionary, set, or string). It's more like an iterator method in other programming languages.\n",
    "- **`while` Loop**: Executes a set of statements as long as a condition is true.\n",
    "\n",
    "**More Advanced Control-Flow Concepts**  \n",
    "\n",
    "3. Loop Control Statements\n",
    "\n",
    "- **`break`**: Used to exit the loop entirely.\n",
    "- **`continue`**: Skips the current iteration of the loop and moves to the next iteration.\n",
    "- **`pass`**: Does nothing; it's a placeholder to avoid syntax errors when a statement is required syntactically but no code needs to be executed.\n",
    "\n",
    "4. Nested Control Structures\n",
    "\n",
    "* Control structures can be nested within each other. For example, an `if` statement inside a `for` loop, or a `for` loop inside a `while` loop.\n",
    "\n",
    "6. Exception Handling\n",
    "\n",
    "- **`try` and `except` Blocks**: Used to catch and handle exceptions (errors) in Python. The `try` block lets you test a block of code for errors, while the `except` block lets you handle the error. (There will be a separate primer on these)\n",
    "\n",
    "6. Function Calls\n",
    "\n",
    "- Functions are blocks of reusable code. Typical programs consist of defining functions and creating a workflow that `calls` those functions to perform desired tasks."
   ]
  },
  {
   "cell_type": "markdown",
   "id": "c04fc913-3602-4dfc-9054-ef7713f6c70c",
   "metadata": {},
   "source": [
    "### Advanced example\n",
    "- Let's sew together some of these ideas to do something a little more complex.\n",
    "- This example showcases a protein size classifying algorithm that uses a `lookup table` of amino acid molecular weights and some size cutoffs to make the classification. "
   ]
  },
  {
   "cell_type": "code",
   "execution_count": null,
   "id": "3b6e3e89-e172-40c9-822b-d2df4ca7f38a",
   "metadata": {},
   "outputs": [],
   "source": [
    "# Let's assume we have a list of protein sequences\n",
    "# Here we're inputing them manually, but they could have been imported from a file\n",
    "protein_sequences = [\"MKQLEDKVEELLSKNYHLENEVARLKKLV\", \"MTEEYKLVVVGAGGVGKSALTIQLIQNHFVDEYDPTIEDSYRKQVVIDGETCLLDILDTAGQEEYSAMRDQYMRTGEGFLCVFAINNTKSFEDIHQYREQIKRVKDSDDVPMVLVGNKCDLPARTVETRQAQDLARSYGIPYIETSAKTRQGVEDAFYTLVREIRQYRMKKLNSSDDGTQGEGENS\"]\n",
    "\n",
    "# Function to calculate the molecular weight of a protein sequence from a lookup table of AA mol weights\n",
    "def calculate_molecular_weight(sequence):\n",
    "    molecular_weights = {\n",
    "        'A': 89.1, 'R': 174.2, 'N': 132.1, 'D': 133.1, 'C': 121.2,\n",
    "        'E': 147.1, 'Q': 146.2, 'G': 75.1, 'H': 155.2, 'I': 131.2,\n",
    "        'L': 131.2, 'K': 146.2, 'M': 149.2, 'F': 165.2, 'P': 115.1,\n",
    "        'S': 105.1, 'T': 119.1, 'W': 204.2, 'Y': 181.2, 'V': 117.1\n",
    "    }\n",
    "    weight = 0\n",
    "    for amino_acid in sequence:\n",
    "        weight += molecular_weights.get(amino_acid, 0) # .get() returns the value of the item with the specified key\n",
    "    return weight\n",
    "\n",
    "# Iterate over each protein sequence\n",
    "for sequence in protein_sequences:\n",
    "    # Calculate the molecular weight\n",
    "    weight = calculate_molecular_weight(sequence)\n",
    "    \n",
    "    # Check if the molecular weight is within a certain range\n",
    "    if weight > 2000 and weight < 5000:\n",
    "        print(f\"Sequence: {sequence}\")\n",
    "        print(f\"Molecular Weight: {weight} - Medium sized protein\")\n",
    "    elif weight >= 5000:\n",
    "        print(f\"Sequence: {sequence}\")\n",
    "        print(f\"Molecular Weight: {weight} - Large sized protein\")\n",
    "    else:\n",
    "        print(f\"Sequence: {sequence}\")\n",
    "        print(f\"Molecular Weight: {weight} - Small sized protein\")\n",
    "\n",
    "# Example of a while loop to find the first large protein\n",
    "index = 0\n",
    "while index < len(protein_sequences): # What do you think the len() function does?\n",
    "    weight = calculate_molecular_weight(protein_sequences[index])\n",
    "    if weight >= 5000:\n",
    "        print(f\"First large protein found at index {index}: {protein_sequences[index]}\")\n",
    "        break\n",
    "    index += 1\n",
    "else:\n",
    "    print(\"No large protein found in the list.\")\n"
   ]
  },
  {
   "cell_type": "markdown",
   "id": "6ddbdd19-f36c-494c-88a5-8d498c7b4e0f",
   "metadata": {},
   "source": [
    "## Advanced Exercises  \n",
    "\n",
    "1. Exercise 1: Protein Sequence Analysis\n",
    "\n",
    "- Given a list of protein sequences, write a Python function to classify each protein based on its length:\n",
    "- Short (length < 50)\n",
    "- Medium (length between 50 and 100)\n",
    "- Long (length > 100)\n",
    "\n",
    "2. Exercise 2: Amino Acid Count\n",
    "   \n",
    "- Write a function that takes a protein sequence and returns a dictionary with the count of each amino acid in the sequence.\n",
    "\n",
    "3. Exercise 3: Molecular Weight Calculator Enhancement\n",
    "\n",
    "- Modify the `calculate_molecular_weight` function from the previous example to include an error message if an unrecognized amino acid single letter abbreviation is encountered\n",
    "\n",
    "5. Exercise 4: Finding the First Large Protein with a While Loop\n",
    " \n",
    "- Using a `while` loop, iterate through a list of protein sequences and print the sequence of the first protein that is classified as 'Large' based on the molecular weight cutoff parameter.\n"
   ]
  },
  {
   "cell_type": "code",
   "execution_count": null,
   "id": "c3265ea2-554d-4666-b5b4-3fe22d90315a",
   "metadata": {},
   "outputs": [],
   "source": [
    "# Your Answers Here; Create new cells as needed"
   ]
  },
  {
   "cell_type": "markdown",
   "id": "21321ef8-b92c-46d5-bc29-fcdd4f554df7",
   "metadata": {
    "jp-MarkdownHeadingCollapsed": true
   },
   "source": [
    "### Solutions"
   ]
  },
  {
   "cell_type": "code",
   "execution_count": null,
   "id": "da63c388-c81c-4450-8a84-2cf83803d770",
   "metadata": {},
   "outputs": [],
   "source": [
    "# Exercise 1: Protein Sequence Analysis\n",
    "def classify_protein_by_length(protein_sequences):\n",
    "    for sequence in protein_sequences:\n",
    "        if len(sequence) < 50:\n",
    "            print(f\"Sequence: {sequence} - Short\")\n",
    "        elif 50 <= len(sequence) <= 100:\n",
    "            print(f\"Sequence: {sequence} - Medium\")\n",
    "        else:\n",
    "            print(f\"Sequence: {sequence} - Long\")\n",
    "\n",
    "protein_sequences = [\"MKQLEDKVEELLSKNYHLENEVARLKKLV\", \"MTEEYKLVVVGAGGVGKSALTIQLIQNHFVDEYDPTIEDSYRKQVVIDGETCLLDILDTAGQEEYSAMRDQYMRTGEGFLCVFAINNTKSFEDIHQYREQIKRVKDSDDVPMVLVGNKCDLPARTVETRQAQDLARSYGIPYIETSAKTRQGVEDAFYTLVREIRQYRMKKLNSSDDGTQGEGENS\", \"MPMILGYGNGKTT\"]\n",
    "classify_protein_by_length(protein_sequences)\n",
    "\n",
    "# Exercise 2: Amino Acid Count\n",
    "def amino_acid_count(sequence):\n",
    "    count_dict = {}\n",
    "    for amino_acid in sequence:\n",
    "        if amino_acid in count_dict:\n",
    "            count_dict[amino_acid] += 1\n",
    "        else:\n",
    "            count_dict[amino_acid] = 1\n",
    "    return count_dict\n",
    "\n",
    "sequence = \"MKQLEDKVEELLSKNYHLENEVARLKKLV\"\n",
    "print(amino_acid_count(sequence))\n",
    "\n",
    "# Exercise 3: Molecular Weight Calculator Enhancement\n",
    "def calculate_molecular_weight(sequence):\n",
    "    molecular_weights = {\n",
    "        'A': 89.1, 'R': 174.2, 'N': 132.1, 'D': 133.1, 'C': 121.2,\n",
    "        'E': 147.1, 'Q': 146.2, 'G': 75.1, 'H': 155.2, 'I': 131.2,\n",
    "        'L': 131.2, 'K': 146.2, 'M': 149.2, 'F': 165.2, 'P': 115.1,\n",
    "        'S': 105.1, 'T': 119.1, 'W': 204.2, 'Y': 181.2, 'V': 117.1\n",
    "    }\n",
    "    weight = 0\n",
    "    for amino_acid in sequence:\n",
    "        if amino_acid in molecular_weights:\n",
    "            weight += molecular_weights[amino_acid]\n",
    "        else:\n",
    "            print(f\"Unknown amino acid {amino_acid} encountered.\")\n",
    "            return None\n",
    "    return weight\n",
    "\n",
    "# Exercise 4: Finding the First Large Protein with a While Loop\n",
    "def find_first_large_protein(protein_sequences):\n",
    "    index = 0\n",
    "    while index < len(protein_sequences):\n",
    "        if len(protein_sequences[index]) > 100:\n",
    "            print(f\"First large protein found at index {index}: {protein_sequences[index]}\")\n",
    "            return\n",
    "        index += 1\n",
    "    print(\"No large protein found in the list.\")\n",
    "\n",
    "find_first_large_protein(protein_sequences)\n"
   ]
  }
 ],
 "metadata": {
  "kernelspec": {
   "display_name": "Python 3 (ipykernel)",
   "language": "python",
   "name": "python3"
  },
  "language_info": {
   "codemirror_mode": {
    "name": "ipython",
    "version": 3
   },
   "file_extension": ".py",
   "mimetype": "text/x-python",
   "name": "python",
   "nbconvert_exporter": "python",
   "pygments_lexer": "ipython3",
   "version": "3.9.18"
  }
 },
 "nbformat": 4,
 "nbformat_minor": 5
}
