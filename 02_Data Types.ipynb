{
 "cells": [
  {
   "cell_type": "markdown",
   "id": "4ab242e3-8c60-4b9a-bb85-16626b61cf4d",
   "metadata": {},
   "source": [
    "# A Primer on Python Data Types\r\n",
    "\r\n",
    "Python offers several built-in data types that are useful for different purposes. Here, we compare and contrast some of the most commonly used data types: lists, tuples, dictionariend NumPy arra, and pandas DataFramesyes to phone numbers.\r\n",
    "\r\n",
    "## NumPy Arrays\r\n",
    "- **Mutable**: Elements can be modified, but the array's size is fixed.\r\n",
    "- **Ordered**: Elements are stored in a specific order.\r\n",
    "- **Syntax**: Created using `numpy.array()` function.\r\n",
    "- **Use Case**: Ideal for numerical operations, especially in scientific computing, due to its efficiency and the availability of vectorized operations.\r\n",
    "\r\n",
    "## Key Differences\r\n",
    "- **Mutability**: Lists and dictionaries are mutable, while tuples are immutable. NumPy arrays are mutable but have a fixed size.\r\n",
    "- **Ordering**: Lists, tuples, and NumPy arrays are ordered, meaning the order of elements is preserved. Dictionaries are unordered until Python 3.7, after which they are ordered.\r\n",
    "- **Performance**: NumPy arrays provide better performance for numerical operations compared to lists due to optimized C code under the hood.\r\n",
    "- **Functionality**: Dictionaries offer a unique key-value pair structure, making them suitable for different use cases \n",
    "T lists, tuples, and ar the choice of data type in Python largely depends on the specific requirements of the application, such as whether you need ordered/unordered data, mutable/immutable structures, orefficient numerical computations.\r\n"
   ]
  },
  {
   "cell_type": "markdown",
   "id": "ed9e1a1f-68b4-455e-9257-19117450b693",
   "metadata": {},
   "source": [
    "## Lists\n",
    "- **Mutable**: Lists can be modified after creation (add, remove, or change items).\n",
    "- **Ordered**: The order of items is maintained, and items can be accessed by their position.\n",
    "- **Syntax**: Created using square brackets `[]`.\n",
    "- **Use Case**: Ideal for collections of items where the order matters and contents might change."
   ]
  },
  {
   "cell_type": "code",
   "execution_count": 1,
   "id": "c46f3e0f-04a8-44fd-b598-7a7ac51634ab",
   "metadata": {},
   "outputs": [
    {
     "name": "stdout",
     "output_type": "stream",
     "text": [
      "List of Enzymes: ['Ligase', 'Helicase', 'Polymerase', 'Nuclease']\n",
      "Updated List of Enzymes: ['Ligase', 'Helicase', 'Polymerase', 'Nuclease', 'Transferase']\n",
      "Second Enzyme in the List: Helicase\n"
     ]
    }
   ],
   "source": [
    "# Lists: Dynamic arrays, useful for storing collections of items.\n",
    "# --------------------------------------------------------------\n",
    "# Creating a list of common enzymes\n",
    "enzymes = [\"Ligase\", \"Helicase\", \"Polymerase\", \"Nuclease\"]\n",
    "print(\"List of Enzymes:\", enzymes)\n",
    "\n",
    "# Adding an enzyme to the list\n",
    "enzymes.append(\"Transferase\")\n",
    "print(\"Updated List of Enzymes:\", enzymes)\n",
    "\n",
    "# Accessing a specific enzyme by index\n",
    "print(\"Second Enzyme in the List:\", enzymes[1])"
   ]
  },
  {
   "cell_type": "markdown",
   "id": "8957d402-6b3c-4ab7-8e16-df5e1b763f97",
   "metadata": {},
   "source": [
    "### Some Useful Functions for Using Lists\n",
    "There are two types of syntax to consider: \n",
    "- **The function takes an item from a list as input**: In this case you should write something like `my_list.function()`. Note, these functions change the list in place. \n",
    "- **The function taks a list (iteratable) as an input**: In this case you should write something like `function(my_list)`. Note, it may be preferable to create a new list to make these modifications. \n",
    "\n",
    "1. **Appending and Extending:**\n",
    "   - `append(item)`: Adds an item to the end of the list.\n",
    "   - `extend(iterable)`: Extends the list by appending all the items from the iterable (e.g., another list).\n",
    "\n",
    "2. **Inserting and Removing Elements:**\n",
    "   - `insert(index, item)`: Inserts an item at a specified index.\n",
    "   - `remove(item)`: Removes the first occurrence of an item.\n",
    "   - `pop([index])`: Removes and returns an item at a given index (or the last item if index is not specified).\n",
    "\n",
    "3. **Finding Elements:**\n",
    "   - `index(item)`: Returns the index of the first occurrence of an item.\n",
    "   - `count(item)`: Returns the number of times an item appears in the list.\n",
    "\n",
    "4. **Sorting:**\n",
    "   - `sorted(iteratable)`: Sorts the items of the list.\n",
    "\n",
    "5. **Copying:**\n",
    "   - `copy(iteratable)`: Returns a shallow copy of the list.\n",
    "\n",
    "6. **Clearing:**\n",
    "   - `clear(iteratable)`: Removes all items from the list.\n",
    "\n",
    "7. **List Comprehensions:**\n",
    "   - A concise way to create lists. Uses `for` or `if` statements to iteratively create a list. \n",
    "   - `my_list = [x**2 for x in range(1,6)]` creates a list called my_list and fills it iteratively with the squares of 1-6.\n",
    "   - `my_list = [x**2 for x in range(1, 6) if x % 2 == 0]` creates a list called my_list and fills it with only the even squares of 1-6. The conditional: `x % 2 == 0`, is a modulo function. A modulo function takes a number and a divisor and returns the remainder. Here, it means: `if the remainder of the list number divided by 2 is equal to 0` it must be even, so we keep it in the list.  \n",
    "\n",
    "8. **Slicing:**\n",
    "   - Used for accessing a subset of list elements. Syntax: `list[start:stop:step]`. Where step is the interval size between each list element. \n",
    "\n",
    "9. **Conversion to/from Other Data Types:**\n",
    "   - `list(iterable)`: Converts an iterable (like a tuple, string, set, or dictionary) to a list.\n",
    "   - `str.join(iterable)`: Concatenates a list of strings into a single string, with elements separated by the specified separator.\n",
    "\n",
    "10. **Length:**\n",
    "    - `len(list)`: Returns the number of items in the list.ns the number of items in the list.\r\n"
   ]
  },
  {
   "cell_type": "code",
   "execution_count": 24,
   "id": "daec4cf3-0829-4ca2-a121-952d4473cbae",
   "metadata": {},
   "outputs": [
    {
     "name": "stdout",
     "output_type": "stream",
     "text": [
      "[2, 3, 5, 3, 1, 4, 6, 2, 8]\n",
      "9\n",
      "2\n",
      "2\n",
      "[1, 2, 2, 3, 3, 4, 5, 6, 8]\n"
     ]
    }
   ],
   "source": [
    "# A few examples\n",
    "my_list = [2,3,5,3,1,4,6,2,8] # Create the list\n",
    "print(my_list) # print the list\n",
    "\n",
    "print(len(my_list)) #print the length of the list\n",
    "\n",
    "print(my_list.count(2)) # return the number of times '2' appears in the list\n",
    "\n",
    "print(my_list.index(5)) # returns the index of 5; Note python starts counting at 0\n",
    "\n",
    "sorted_list = sorted(my_list, reverse = False) # sort the list; Also try this: sorted(my_list, reverse = True)\n",
    "print(sorted_list)"
   ]
  },
  {
   "cell_type": "markdown",
   "id": "af417014-d0e6-46d5-8dca-204124770a48",
   "metadata": {},
   "source": [
    "### Exercise 1: Lists\n",
    "- **Task 1**: Create a list, and try some of these functions out\n",
    "- **Task 2**: Create a list using a list comprehension."
   ]
  },
  {
   "cell_type": "code",
   "execution_count": 8,
   "id": "8d5ddb8f-9cbb-41c5-b5cb-3a9312ab24ca",
   "metadata": {},
   "outputs": [],
   "source": [
    "# Your Answers Here; Create Additional Cells as Needed"
   ]
  },
  {
   "cell_type": "markdown",
   "id": "06573fcc-574a-42d8-9b55-da8f6d3d4d7d",
   "metadata": {},
   "source": [
    "## Tuples\n",
    "- **Immutable**: Once a tuple is created, it cannot be modified.\n",
    "- **Ordered**: Like lists, tuples maintain the order of items.\n",
    "- **Syntax**: Created using parentheses `()`.\n",
    "- **Use Case**: Suitable for fixed data sets, like coordinates or RGB color values.\n",
    "- We won't focus too much on these here (b/c they're not very exciting), but wanted you to know about them."
   ]
  },
  {
   "cell_type": "markdown",
   "id": "feaac2ec-b1f4-4061-8c85-651e9e775564",
   "metadata": {},
   "source": [
    "## Dictionaries\n",
    "- **Mutable**: Can change, add, or delete key-value pairs.\n",
    "- **Unordered**: Items are not stored in a specific order and are accessed via keys.\n",
    "- **Syntax**: Created using curly braces `{}` with key-value pairs.\n",
    "- **Use Case**: Perfect for associating keys with values, like mapping names to phone numbers."
   ]
  },
  {
   "cell_type": "code",
   "execution_count": 39,
   "id": "d5165576-236a-4744-a9d2-8306d9d251bc",
   "metadata": {},
   "outputs": [
    {
     "name": "stdout",
     "output_type": "stream",
     "text": [
      "Enzyme Functions: {'Ligase': 'Joining of DNA strands', 'Helicase': 'Unwinding DNA helix', 'Polymerase': 'Polymerizing nucleotides', 'Nuclease': 'Cutting DNA strands'}\n",
      "Function of Helicase: Unwinding DNA helix\n",
      "Updated Enzyme Functions: {'Ligase': 'Joining of DNA strands', 'Helicase': 'Unwinding DNA helix', 'Polymerase': 'Polymerizing nucleotides', 'Nuclease': 'Cutting DNA strands', 'Transferase': 'Transfer of functional groups'}\n",
      "{'Alanine': 'amino acid', 'Tyrosine': 'amino acid', 'Methionine': 'amino acid'}\n",
      "{'Adenosine': 'nucleic acid', 'Cytosine': 'nucleic acid', 'Guanosine': 'nucleic acid'}\n",
      "{'Alanine': 'amino acid', 'Tyrosine': 'amino acid', 'Methionine': 'amino acid', 'Adenosine': 'nucleic acid', 'Cytosine': 'nucleic acid', 'Guanosine': 'nucleic acid'}\n",
      "{'alanine': 'amino acid', 'adenosine': 'nucleic acid', 'pyruvate': 'keto acid'}\n"
     ]
    }
   ],
   "source": [
    "# Dictionaries: Key-value pairs, great for mapping relationships.\n",
    "# ----------------------------------------------------------------\n",
    "# Creating a dictionary to map enzymes to their functions\n",
    "enzyme_functions = {\n",
    "    \"Ligase\": \"Joining of DNA strands\",\n",
    "    \"Helicase\": \"Unwinding DNA helix\",\n",
    "    \"Polymerase\": \"Polymerizing nucleotides\",\n",
    "    \"Nuclease\": \"Cutting DNA strands\"\n",
    "}\n",
    "print(\"Enzyme Functions:\", enzyme_functions)\n",
    "\n",
    "# Accessing a function by enzyme name\n",
    "print(\"Function of Helicase:\", enzyme_functions[\"Helicase\"])\n",
    "\n",
    "# Adding a new key-value pair\n",
    "enzyme_functions[\"Transferase\"] = \"Transfer of functional groups\"\n",
    "print(\"Updated Enzyme Functions:\", enzyme_functions)"
   ]
  },
  {
   "cell_type": "markdown",
   "id": "fef2898e-4b9a-464d-bb31-e319a035d56b",
   "metadata": {},
   "source": [
    "## Some Useful Functions for Using Dictionaries\n",
    "\n",
    "1. **Creating a Dictionary:**\n",
    "   - `{}` or `dict()`: Create an empty dictionary.\n",
    "   - `dict.fromkeys(sequence, value)`: Create a new dictionary with keys from `sequence` and values set to `value`.\n",
    "\n",
    "2. **Accessing Elements:**\n",
    "   - `dict[key]`: Access the item with key `key`. Raises a `KeyError` if the key is not found.\n",
    "   - `get(key, default=None)`: Returns the value for `key` if `key` is in the dictionary, else `default`.\n",
    "\n",
    "3. **Adding and Updating Elements:**\n",
    "   - `dict[key] = value`: Sets `dict[key]` to `value`, overwriting any existing value.\n",
    "   - `update([other])`: Updates the dictionary with the key/value pairs from `other`, overwriting existing keys.\n",
    "\n",
    "4. **Removing Elements:**\n",
    "   - `pop(key[, default])`: Remove the item with key `key` and return its value, or `default` if `key` is not found.\n",
    "   - `popitem()`: Removes and returns a `(key, value)` pair as a 2-tuple.\n",
    "   - `del dict[key]`: Removes `dict[key]` from the dictionary.\n",
    "   - `clear()`: Removes all items from the dictionary.\n",
    "\n",
    "5. **Keys, Values, and Items:**\n",
    "   - `keys()`: Returns a new view of the dictionary's keys.\n",
    "   - `values()`: Returns a new view of the dictionary's values.\n",
    "   - `items()`: Returns a new view of the dictionary’s items (`(key, value)` pairs).\n",
    "\n",
    "6. **Copying:**\n",
    "   - `copy()`: Returns a shallow copy of the dictionary.\n",
    "\n",
    "7. **Merging Dictionaries (Python 3.5+):**\n",
    "   - `{**d1, **d2}`: Creates a new dictionary by merging `d1` and `d2`.\n",
    "\n",
    "8. **Dictionary Comprehensions:**\n",
    "   - `{key: value for (key, value) in iterable}`: Similar to list comprehensions, but for dictionaries.\n",
    "   - `zip()`: Commonly used in combination with dictionary comprehensions to create dictionaries when you have separate lists of keys and values.\n",
    "    - Example: `my_dict = dict(zip(list_of_keys, list_of_values))`\n",
    "\n",
    "9. **Length:**\n",
    "   - `len(dict)`: Returns the number of items in the dictionary.\n",
    "\n",
    "10. **Membership Test:**\n",
    "    - `key in dict`: Returns `True` if `dict` has a key `key`, else `False`.\n",
    "\n",
    "11. **Nested Dictionaries:**\n",
    "    - Used for storing hierarchical or structured data.\n",
    "\n",
    "12. **Sorting:**\n",
    "    - `sorted(dict)`: Returns a sorted list of the dictionary's keys.)`rns a sorted list of the dictionary's keys.\r\n"
   ]
  },
  {
   "cell_type": "code",
   "execution_count": 42,
   "id": "df0db15c-22ef-4506-90c5-c43f429fb61c",
   "metadata": {},
   "outputs": [
    {
     "name": "stdout",
     "output_type": "stream",
     "text": [
      "{'Alanine': 'amino acid', 'Tyrosine': 'amino acid', 'Methionine': 'amino acid'}\n",
      "{'Adenosine': 'nucleic acid', 'Cytosine': 'nucleic acid', 'Guanosine': 'nucleic acid'}\n",
      "{'Alanine': 'amino acid', 'Tyrosine': 'amino acid', 'Methionine': 'amino acid', 'Adenosine': 'nucleic acid', 'Cytosine': 'nucleic acid', 'Guanosine': 'nucleic acid'}\n",
      "{'alanine': 'amino acid', 'adenosine': 'nucleic acid', 'pyruvate': 'keto acid'}\n"
     ]
    }
   ],
   "source": [
    "# Some useful examples\n",
    "\n",
    "# Create a dictionary where the keys all have the same value.\n",
    "keys = ['Alanine', 'Tyrosine', 'Methionine']\n",
    "values = 'amino acid'\n",
    "my_dict = dict.fromkeys(keys, values)\n",
    "print(my_dict)\n",
    "\n",
    "# Create another dictionary where the keys all have the same value.\n",
    "keys = ['Adenosine', 'Cytosine', 'Guanosine']\n",
    "values = 'nucleic acid'\n",
    "new_dict = dict.fromkeys(keys, values)\n",
    "print(new_dict)\n",
    "\n",
    "# Merge the two dictionaries into one\n",
    "combined_dict = {**my_dict, **new_dict}\n",
    "print(combined_dict)\n",
    "\n",
    "# -----------------------------------------------------------------\n",
    "\n",
    "# Creating a dictionary from lists of keys and values using a dictionary comprehension\n",
    "keys = ['alanine', 'adenosine', 'pyruvate']\n",
    "values = ['amino acid', 'nucleic acid', 'keto acid']\n",
    "\n",
    "# Create a dictionary with different values for each key\n",
    "created_dict = {key: value for key, value in zip(keys, values)}\n",
    "print(created_dict) "
   ]
  },
  {
   "cell_type": "markdown",
   "id": "c925f106-0d60-4b26-9a39-006c9b012e82",
   "metadata": {},
   "source": [
    "### Exercise 2: Dictionaries\n",
    "- **Task 1**: Create two dictionaries, combine them into one, and print a specific key:value.\n",
    "- **Task 2**: Create a dictionary from a list of keys and a list of values using a dictionary comprehension"
   ]
  },
  {
   "cell_type": "code",
   "execution_count": 36,
   "id": "6db74454-463b-4ac0-8697-193bef8ffb0d",
   "metadata": {},
   "outputs": [],
   "source": [
    "# Your Answers Here"
   ]
  },
  {
   "cell_type": "markdown",
   "id": "6db10292-2db4-437f-8dc5-2c92ad18edf9",
   "metadata": {},
   "source": [
    "## NumPy Arrays\n",
    "- **Mutable**: Elements can be modified, but the array's size is fixed.\n",
    "- **Ordered**: Elements are stored in a specific order.\n",
    "- **Syntax**: Created using `numpy.array()` function.\n",
    "- **Use Case**: Ideal for numerical operations, especially in scientific computing, due to its efficiency and the availability of vectorized operations.\n",
    "- **Note**: Data type must be the same for every element in the array"
   ]
  },
  {
   "cell_type": "code",
   "execution_count": 41,
   "id": "aad2d6ef-a38e-46b3-9f91-40f5a28214a1",
   "metadata": {},
   "outputs": [
    {
     "name": "stdout",
     "output_type": "stream",
     "text": [
      "pH Values: [7.2 7.4 6.8 7.  7.3]\n",
      "Average pH: 7.140000000000001\n"
     ]
    }
   ],
   "source": [
    "# NumPy Arrays: Efficient arrays for numerical data.\n",
    "# import the library\n",
    "import numpy as np\n",
    "# Creating a NumPy array of pH values\n",
    "ph_values = np.array([7.2, 7.4, 6.8, 7.0, 7.3])\n",
    "print(\"pH Values:\", ph_values)\n",
    "\n",
    "# Performing calculations on the entire array\n",
    "average_ph = np.mean(ph_values)\n",
    "print(\"Average pH:\", average_ph)"
   ]
  },
  {
   "cell_type": "markdown",
   "id": "7bf1ed57-a423-4513-a1f3-bc889847c1dd",
   "metadata": {},
   "source": [
    "## Some Useful Functions for Using NumPy Arrays\r\n",
    "\r\n",
    "NumPy is a fundamental package for scientific computing in Python. It provides a high-performance multidimensional array object and tools for working with these arrays.\r\n",
    "\r\n",
    "1. **Creating Arrays:**\r\n",
    "   - `np.array(list)`: Creates a NumPy array from a list or list of lists.\r\n",
    "   - `np.zeros(shape)`: Creates an array filled with zeros.\r\n",
    "   - `np.ones(shape)`: Creates an array filled with ones.\r\n",
    "   - `np.arange(start, stop, step)`: Creates an array with values from `start` to `stop` with `step` increments.\r\n",
    "   - `np.linspace(start, stop, num)`: Creates an array with `num` evenly spaced values over the specified interval.\r\n",
    "\r\n",
    "2. **Array Attributes:**\r\n",
    "   - `ndarray.shape`: Tuple of array dimensions.\r\n",
    "   - `ndarray.size`: Number of elements in the array.\r\n",
    "   - `ndarray.dtype`: Data type of the array elements.\r\n",
    "   - `ndarray.ndim`: Number of array dimensions.\r\n",
    "\r\n",
    "3. **Indexing and Slicing:**\r\n",
    "   - `array[index]`: Accesses an element.\r\n",
    "   - `array[start:stop:step]`: Slices the array.\r\n",
    "\r\n",
    "4. **Reshaping and Transposing:**\r\n",
    "   - `reshape(shape)`: Gives a new shape to an array without changing its data.\r\n",
    "   - `transpose()`: Permute the dimensions of an array.\r\n",
    "\r\n",
    "5. **Mathematical Operations:**\r\n",
    "   - `np.add()`, `np.subtract()`, `np.multiply()`, `np.divide()`: Basic arithmetic operations.\r\n",
    "   - `np.sqrt()`, `np.log()`, `np.exp()`: Square root, logarithm, and exponential.\r\n",
    "   - `np.sin()`, `np.cos()`, `np.tan()`: Trigonometric functions.\r\n",
    "\r\n",
    "6. **Aggregation Functions:**\r\n",
    "   - `np.sum()`, `np.mean()`, `np.median()`: Summation, mean, and median.\r\n",
    "   - `np.min()`, `np.max()`: Minimum and maximum.\r\n",
    "   - `np.std()`: Standard deviation.\r\n",
    "\r\n",
    "7. **Linear Algebra:**\r\n",
    "   - `np.dot()`: Dot product of two arrays.\r\n",
    "   - `np.linalg.inv()`: Inverse of a matrix.\r\n",
    "   - `np.linalg.eig()`: Eigenvalues and eigenvectors of a matrix.\r\n",
    "\r\n",
    "8. **Random Module:**\r\n",
    "   - `np.random.rand()`: Random values in a given shape.\r\n",
    "   - `np.random.randint()`: Random integers from a low to a high range.\r\n",
    "\r\n",
    "9. **Comparisons:**\r\n",
    "   - `np.equal()`, `np.greater()`, `np.less()`: Element-wise comparisons.\r\n",
    "\r\n",
    "10. **Combining/Splitting:**\r\n",
    "    - `np.concatenate()`, `np.vstack()`, `np.hstack()`: Combine arrays.\r\n",
    "    - `np.split()`, `np.vsplit()`, `np.hsplit()`: Split arrays.\r\n",
    "\r\n",
    "11. **Saving and Loading:**\r\n",
    "    - `np.save()`, `np.load()`: Save and load arrays to and from disk.\r\n",
    "\r\n",
    "Remember to import NumPy using `import numpy as np` to access these functions.\r\n"
   ]
  },
  {
   "cell_type": "code",
   "execution_count": 49,
   "id": "d3b18334-5c6d-45e9-af62-32e26831fac9",
   "metadata": {},
   "outputs": [
    {
     "name": "stdout",
     "output_type": "stream",
     "text": [
      "[1 2 3 4 5]\n",
      "[ 2  4  6  8 10]\n",
      "[[1 2 3 4 5]\n",
      " [5 4 3 2 1]]\n"
     ]
    }
   ],
   "source": [
    "# Some code examples of numpy array uses\n",
    "\n",
    "# Create a 1D array\n",
    "my_list = [1,2,3,4,5]\n",
    "array_1D = np.array(my_list)\n",
    "print(array_1D)\n",
    "\n",
    "# Do math operations on the array; This is a very useful property of arrays\n",
    "print(array_1D * 2)\n",
    "\n",
    "first_list = [1,2,3,4,5]\n",
    "second_list = [5,4,3,2,1]\n",
    "array_2D = np.array([first_list, second_list]) # notice the use of []\n",
    "print(array_2D)\n"
   ]
  },
  {
   "cell_type": "markdown",
   "id": "2849941c-0514-4c1d-92b3-09a3127e8c61",
   "metadata": {},
   "source": [
    "## Code Examples"
   ]
  },
  {
   "cell_type": "code",
   "execution_count": null,
   "id": "2120e5d7-c233-4b34-9461-9e5787faaa07",
   "metadata": {
    "scrolled": true
   },
   "outputs": [],
   "source": [
    "# Importing necessary libraries\n",
    "import numpy as np\n",
    "\n",
    "# Python Data Types in Biochemistry\n",
    "# ----------------------------------\n",
    "\n",
    "\n",
    "\n",
    "# Tuples: Immutable sequences, useful for fixed data sets.\n",
    "# ---------------------------------------------------------\n",
    "# Defining a tuple of nucleotide bases\n",
    "nucleotides = (\"Adenine\", \"Thymine\", \"Cytosine\", \"Guanine\")\n",
    "print(\"Nucleotide Bases:\", nucleotides)\n",
    "\n",
    "# Accessing elements in a tuple\n",
    "print(\"First Nucleotide Base:\", nucleotides[0]) # Notice that Python starts counting from 0..\n",
    "\n",
    "# Tuples are immutable, so you can't change them after creation\n",
    "# This is useful for data that shouldn't be modified\n",
    "\n",
    "# Dictionaries: Key-value pairs, great for mapping relationships.\n",
    "# ----------------------------------------------------------------\n",
    "# Creating a dictionary to map enzymes to their functions\n",
    "enzyme_functions = {\n",
    "    \"Ligase\": \"Joining of DNA strands\",\n",
    "    \"Helicase\": \"Unwinding DNA helix\",\n",
    "    \"Polymerase\": \"Polymerizing nucleotides\",\n",
    "    \"Nuclease\": \"Cutting DNA strands\"\n",
    "}\n",
    "print(\"Enzyme Functions:\", enzyme_functions)\n",
    "\n",
    "# Accessing a function by enzyme name\n",
    "print(\"Function of Helicase:\", enzyme_functions[\"Helicase\"])\n",
    "\n",
    "# Adding a new key-value pair\n",
    "enzyme_functions[\"Transferase\"] = \"Transfer of functional groups\"\n",
    "print(\"Updated Enzyme Functions:\", enzyme_functions)\n",
    "\n",
    "# NumPy Arrays: Efficient arrays for numerical data.\n",
    "# --------------------------------------------------\n",
    "# Creating a NumPy array of pH values\n",
    "ph_values = np.array([7.2, 7.4, 6.8, 7.0, 7.3])\n",
    "print(\"pH Values:\", ph_values)\n",
    "\n",
    "# Performing calculations on the entire array\n",
    "average_ph = np.mean(ph_values)\n",
    "print(\"Average pH:\", average_ph)\n",
    "\n",
    "# Conclusion\n",
    "# ----------\n",
    "# This code block demonstrates the use of different data types in Python,\n",
    "# such as lists, tuples, dictionaries, and NumPy arrays. Each data type serves a specific\n",
    "# purpose and can be used to efficiently store and manipulate data relevant\n",
    "# to biochemistry applications."
   ]
  },
  {
   "cell_type": "markdown",
   "id": "c6017a72-5647-48e2-9fc6-f343cb5ee39a",
   "metadata": {},
   "source": [
    "# Python Data Types Exercises\r\n",
    "\r\n",
    "## Exercise 1: List Manipulation\r\n",
    "- **Task**: Create a list of five different proteins found in the human body. Then, write a function to add a new protein to the list and print the updated list.\r\n",
    "- **Hint**: Use the `append()` method to add items to a list.\r\n",
    "\r\n",
    "## Exercise 2: Tuple Operations\r\n",
    "- **Task**: Define a tuple containing the names of four different vitamins. Write a loop to iterate through the tuple and print each vitamin name.\r\n",
    "- **Hint**: Remember, tuples are immutable, so you cannot modify them after creation.\r\n",
    "\r\n",
    "## Exercise 3: Dictionary Handling\r\n",
    "- **Task**: Create a dictionary mapping three amino acids to their respective molecular weights. Then, write a function that takes an amino acid name as input and returns its molecular weight.\r\n",
    "- **Hint**: Use the amino acids 'Alanine', 'Cysteine', and 'Aspartic Acid' with arbitrary weights.\r\n",
    "\r\n",
    "## Exercise 4: NumPy Array Calculations\r\n",
    "- **Task**: Create a NumPy array of ten random enzyme activity values. Calculate and print the mean and standard deviation of these values.\r\n",
    "- **Hint**: Use `np.random.rand()` to create random values and `np.mean()`, `np.std()` for calculations.\r\n",
    "\r\n",
    "## Exercise 5: Advanced Data Structure Challenge\r\n",
    "- **Task**: Combine the concepts of lists, tuples, and dictionaries. Create a dictionary where each key is an enzyme, and its value is a tuple containing the enzyme's pH optimum and a list of subst Include 3 enzymes in your data structure.lated tasks. Good luck!\r\n"
   ]
  },
  {
   "cell_type": "code",
   "execution_count": 12,
   "id": "05127622-e29a-4858-b675-8930b9557847",
   "metadata": {},
   "outputs": [],
   "source": [
    "# Your answers here; Create new cells as needed    "
   ]
  },
  {
   "cell_type": "markdown",
   "id": "2daec9af-b435-4d06-97d5-40b3e826416d",
   "metadata": {},
   "source": [
    "## Solutions"
   ]
  },
  {
   "cell_type": "code",
   "execution_count": null,
   "id": "7030eb54-a211-41c4-a4b3-a2490a1a184f",
   "metadata": {},
   "outputs": [],
   "source": [
    "# Import necessary libraries\n",
    "import numpy as np\n",
    "\n",
    "# Exercise 1: List Manipulation\n",
    "def add_protein(proteins, new_protein):\n",
    "    proteins.append(new_protein)\n",
    "    return proteins\n",
    "\n",
    "proteins = [\"Hemoglobin\", \"Insulin\", \"Keratin\", \"Collagen\", \"Myosin\"]\n",
    "new_protein = \"Actin\"\n",
    "updated_proteins = add_protein(proteins, new_protein)\n",
    "print(\"Updated Protein List:\", updated_proteins)\n",
    "\n",
    "# Exercise 2: Tuple Operations\n",
    "vitamins = (\"Vitamin A\", \"Vitamin B\", \"Vitamin C\", \"Vitamin D\")\n",
    "for vitamin in vitamins:\n",
    "    print(\"Vitamin:\", vitamin)\n",
    "\n",
    "# Exercise 3: Dictionary Handling\n",
    "amino_acid_weights = {\n",
    "    \"Alanine\": 89.1,\n",
    "    \"Cysteine\": 121.2,\n",
    "    \"Aspartic Acid\": 133.1\n",
    "}\n",
    "\n",
    "def get_molecular_weight(amino_acid):\n",
    "    return amino_acid_weights.get(amino_acid, \"Unknown\")\n",
    "\n",
    "print(\"Molecular Weight of Alanine:\", get_molecular_weight(\"Alanine\"))\n",
    "\n",
    "# Exercise 4: NumPy Array Calculations\n",
    "enzyme_activities = np.random.rand(10)\n",
    "print(\"Enzyme Activities:\", enzyme_activities)\n",
    "print(\"Mean Activity:\", np.mean(enzyme_activities))\n",
    "print(\"Standard Deviation:\", np.std(enzyme_activities))\n",
    "\n",
    "# Exercise 5: Advanced Data Structure Challenge\n",
    "enzymes = {\n",
    "    \"Amylase\": (6.8, [\"Starch\", \"Glycogen\"]),\n",
    "    \"Lipase\": (7.0, [\"Triglycerides\"]),\n",
    "    \"Protease\": (6.5, [\"Proteins\"])\n",
    "}\n",
    "\n",
    "for enzyme, (pH, substrates) in enzymes.items():\n",
    "    print(f\"Enzyme: {enzyme}, pH Optimum: {pH}, Substrates: {substrates}\")\n",
    "\n"
   ]
  }
 ],
 "metadata": {
  "kernelspec": {
   "display_name": "Python 3 (ipykernel)",
   "language": "python",
   "name": "python3"
  },
  "language_info": {
   "codemirror_mode": {
    "name": "ipython",
    "version": 3
   },
   "file_extension": ".py",
   "mimetype": "text/x-python",
   "name": "python",
   "nbconvert_exporter": "python",
   "pygments_lexer": "ipython3",
   "version": "3.9.18"
  }
 },
 "nbformat": 4,
 "nbformat_minor": 5
}
