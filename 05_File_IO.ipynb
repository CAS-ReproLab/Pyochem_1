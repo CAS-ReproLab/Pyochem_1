{
 "cells": [
  {
   "cell_type": "markdown",
   "id": "dc724177-7546-4ad9-b833-2eb5235f95a5",
   "metadata": {},
   "source": [
    "# A Primer on File I/O in Python\n",
    "pandas provides robust tools for file input/output (I/O), making it a powerful library for data analysis and manipulation. \n",
    "\n",
    "**Reading Data**:\n",
    "\n",
    "- **Versatility**: pandas can read data from a variety of file formats including CSV, Excel, JSON, HTML, and SQL databases.\n",
    "- **Function Usage**: Common functions include `pd.read_csv()`, `pd.read_excel()`, `pd.read_json()`, etc.\n",
    "- **Customization**: These functions offer numerous parameters to handle different data formats, missing values, and file-specific settings.\n",
    "\n",
    "**Writing Data**:\n",
    "\n",
    "- **Data Export**: pandas allows you to export DataFrames to various file formats.\n",
    "- **Function Usage**: Corresponding to read functions, there are `to_csv()`, `to_excel()`, `to_json()`, etc.\n",
    "- **Flexibility**: You can specify index inclusion, header information, and file encoding options during the export.\n",
    "\n",
    "**Handling Large Data**:\n",
    "\n",
    "- **Chunking**: For large datasets, pandas can read and write data in chunks to avoid memory overload.\n",
    "- **Example**: Use `chunksize` parameter in `read_csv()` to process large files in manageable portions.\n",
    "\n",
    "**Data Transformation**:\n",
    "\n",
    "- **Pre-Processing**: Before analysis, data often requires cleaning and transformation, which can be done during the read phase.\n",
    "- **Example**: Converters and data type specifications can be used in `read_csv()` to preprocess data.\n",
    "\n",
    "**Efficient Data Storage**:\n",
    "\n",
    "- **Formats**: pandas supports efficient data storage formats like HDF5 and Parquet.\n",
    "- **Benefits**: These formats are optimized for size and speed, especially beneficial for large datasets."
   ]
  },
  {
   "cell_type": "markdown",
   "id": "9ea0aa10-cbe5-4af1-baf9-c9ec2b35201c",
   "metadata": {},
   "source": [
    "## Code Examples\n",
    "- **NOTE**: When pandas writes to or reads a file, it will look in your `current` folder (a.k.a. directory) by default. You can give alternative paths in the function call if desired. If using google colaboratory, the process is different. The files must be in your google drive, and you must `mount` the drive. That operation is outside the scope of this primer.  "
   ]
  },
  {
   "cell_type": "code",
   "execution_count": null,
   "id": "079ce095-7afe-49df-826f-b058593add28",
   "metadata": {},
   "outputs": [],
   "source": [
    "# Python File I/O with pandas in Biochemistry\n",
    "# --------------------------------------------\n",
    "\n",
    "# Importing necessary libraries\n",
    "import pandas as pd\n",
    "\n",
    "# Step 1: Creating a pandas DataFrame\n",
    "# -----------------------------------\n",
    "# Example: Creating a DataFrame to store biochemical compound data\n",
    "compounds = {\n",
    "    'Compound': ['Glucose', 'ATP', 'Hemoglobin', 'Insulin'],\n",
    "    'MolecularWeight': [180.16, 507.18, 64500, 5808],\n",
    "    'Role': ['Energy Source', 'Energy Carrier', 'Oxygen Transport', 'Hormone']\n",
    "}\n",
    "compounds_df = pd.DataFrame(compounds)\n",
    "print(\"Biochemical Compounds DataFrame:\\n\", compounds_df)\n",
    "\n",
    "# Step 2: Saving the DataFrame to a CSV file\n",
    "# ------------------------------------------\n",
    "# Saving the DataFrame to a file named 'biochemical_compounds.csv'\n",
    "compounds_df.to_csv('biochemical_compounds.csv', index=False)\n",
    "print(\"DataFrame saved as 'biochemical_compounds.csv'\")\n",
    "\n",
    "# Step 3: Opening and Reading the CSV file\n",
    "# -----------------------------------------\n",
    "# Reading the saved CSV file into a new DataFrame\n",
    "read_compounds_df = pd.read_csv('biochemical_compounds.csv')\n",
    "print(\"Data read from 'biochemical_compounds.csv':\\n\", read_compounds_df)\n",
    "\n",
    "# Step 4: Modifying the DataFrame\n",
    "# -------------------------------\n",
    "# Example Modification: Adding a new column for solubility\n",
    "solubility = [91, 13.3, 'Low', 'High']  # Solubility in g/L (example values)\n",
    "read_compounds_df['Solubility'] = solubility\n",
    "print(\"Modified DataFrame with Solubility:\\n\", read_compounds_df)\n",
    "\n",
    "# Step 5: Saving the Modified DataFrame\n",
    "# -------------------------------------\n",
    "# Saving the modified DataFrame back to the CSV file\n",
    "read_compounds_df.to_csv('biochemical_compounds.csv', index=False)\n",
    "print(\"Modified DataFrame saved back to 'biochemical_compounds.csv'\")"
   ]
  },
  {
   "cell_type": "code",
   "execution_count": 1,
   "id": "30324861-d1e1-4b5c-a3f7-70e2c72a2399",
   "metadata": {},
   "outputs": [
    {
     "name": "stdout",
     "output_type": "stream",
     "text": [
      "Biochemical Compounds DataFrame:\n",
      "      Compound  MolecularWeight              Role\n",
      "0     Glucose           180.16     Energy Source\n",
      "1         ATP           507.18    Energy Carrier\n",
      "2  Hemoglobin         64500.00  Oxygen Transport\n",
      "3     Insulin          5808.00           Hormone\n"
     ]
    }
   ],
   "source": [
    "# Importing necessary libraries\n",
    "import pandas as pd\n",
    "\n",
    "# Create a pandas DataFrame from a dictionary\n",
    "compounds = {\n",
    "    'Compound': ['Glucose', 'ATP', 'Hemoglobin', 'Insulin'],\n",
    "    'MolecularWeight': [180.16, 507.18, 64500, 5808],\n",
    "    'Role': ['Energy Source', 'Energy Carrier', 'Oxygen Transport', 'Hormone']\n",
    "}\n",
    "compounds_df = pd.DataFrame(compounds)\n",
    "print(\"Biochemical Compounds DataFrame:\\n\", compounds_df)"
   ]
  },
  {
   "cell_type": "code",
   "execution_count": 2,
   "id": "3be81219-7b02-496f-8cad-bb157b7eef7a",
   "metadata": {},
   "outputs": [],
   "source": [
    "# Save the DataFrame to a .csv file\n",
    "\n",
    "compounds_df.to_csv('biochemical_compounds.csv', index=False) # Try with index = True, what happens?"
   ]
  },
  {
   "cell_type": "code",
   "execution_count": 7,
   "id": "9f942412-34ef-4132-973f-d36d0bb8e0fd",
   "metadata": {},
   "outputs": [
    {
     "data": {
      "text/html": [
       "<div>\n",
       "<style scoped>\n",
       "    .dataframe tbody tr th:only-of-type {\n",
       "        vertical-align: middle;\n",
       "    }\n",
       "\n",
       "    .dataframe tbody tr th {\n",
       "        vertical-align: top;\n",
       "    }\n",
       "\n",
       "    .dataframe thead th {\n",
       "        text-align: right;\n",
       "    }\n",
       "</style>\n",
       "<table border=\"1\" class=\"dataframe\">\n",
       "  <thead>\n",
       "    <tr style=\"text-align: right;\">\n",
       "      <th></th>\n",
       "      <th>Compound</th>\n",
       "      <th>MolecularWeight</th>\n",
       "      <th>Role</th>\n",
       "    </tr>\n",
       "  </thead>\n",
       "  <tbody>\n",
       "    <tr>\n",
       "      <th>0</th>\n",
       "      <td>Glucose</td>\n",
       "      <td>180.16</td>\n",
       "      <td>Energy Source</td>\n",
       "    </tr>\n",
       "    <tr>\n",
       "      <th>1</th>\n",
       "      <td>ATP</td>\n",
       "      <td>507.18</td>\n",
       "      <td>Energy Carrier</td>\n",
       "    </tr>\n",
       "    <tr>\n",
       "      <th>2</th>\n",
       "      <td>Hemoglobin</td>\n",
       "      <td>64500.00</td>\n",
       "      <td>Oxygen Transport</td>\n",
       "    </tr>\n",
       "    <tr>\n",
       "      <th>3</th>\n",
       "      <td>Insulin</td>\n",
       "      <td>5808.00</td>\n",
       "      <td>Hormone</td>\n",
       "    </tr>\n",
       "  </tbody>\n",
       "</table>\n",
       "</div>"
      ],
      "text/plain": [
       "     Compound  MolecularWeight              Role\n",
       "0     Glucose           180.16     Energy Source\n",
       "1         ATP           507.18    Energy Carrier\n",
       "2  Hemoglobin         64500.00  Oxygen Transport\n",
       "3     Insulin          5808.00           Hormone"
      ]
     },
     "execution_count": 7,
     "metadata": {},
     "output_type": "execute_result"
    }
   ],
   "source": [
    "# Open and Read the CSV file as a dataframe\n",
    "\n",
    "read_compounds_df = pd.read_csv('biochemical_compounds.csv')\n",
    "read_compounds_df.head()"
   ]
  },
  {
   "cell_type": "code",
   "execution_count": 8,
   "id": "d4c73250-1aa9-4df7-9ba2-aab3d09b2028",
   "metadata": {},
   "outputs": [
    {
     "name": "stdout",
     "output_type": "stream",
     "text": [
      "Modified DataFrame with Solubility:\n",
      "      Compound  MolecularWeight              Role Solubility\n",
      "0     Glucose           180.16     Energy Source         91\n",
      "1         ATP           507.18    Energy Carrier       13.3\n",
      "2  Hemoglobin         64500.00  Oxygen Transport        Low\n",
      "3     Insulin          5808.00           Hormone       High\n"
     ]
    }
   ],
   "source": [
    "# Modify the DataFrame by adding a solubility column with different types of data\n",
    "\n",
    "solubility = [91, 13.3, 'Low', 'High']  # Solubility in g/L (example values)\n",
    "read_compounds_df['Solubility'] = solubility\n",
    "print(\"Modified DataFrame with Solubility:\\n\", read_compounds_df)"
   ]
  },
  {
   "cell_type": "code",
   "execution_count": 9,
   "id": "fab17930-4e72-4f5e-90c2-d1d58218185b",
   "metadata": {},
   "outputs": [],
   "source": [
    "# Save the Modified DataFrame\n",
    "\n",
    "read_compounds_df.to_csv('biochemical_compounds.csv', index=False) # Note that the original is overwritten.."
   ]
  },
  {
   "cell_type": "markdown",
   "id": "9d50314a-d758-4c1a-88bd-3c2d3798de89",
   "metadata": {},
   "source": [
    "# Exercises\n",
    "\n",
    "1. Exercise 1: Create and Save DataFrame\n",
    "\n",
    "- **Task**: Create a DataFrame containing data about various enzymes (Name, Function, Optimal pH). Then, save this DataFrame to a CSV file named 'enzymes.csv'.\n",
    "- **Hint**: Use `pd.DataFrame()` to create the DataFrame and `to_csv()` method to save it.\n",
    "\n",
    "2. Exercise 2: Read and Display CSV File\n",
    "- **Task**: Read the 'enzymes.csv' file into a DataFrame and display the first 5 rows.\n",
    "- **Hint**: Use `pd.read_csv()` to read the file and `.head()` method to display the rows.\n",
    "\n",
    "3. Exercise 3: Add Column to DataFrame\n",
    "- **Task**: Add a new column to the DataFrame indicating whether the enzyme is active in humans (Boolean values). Save the updated DataFrame back to 'enzymes.csv'.\n",
    "- **Hint**: Assign a list of Boolean values to a new column and use `to_csv()` to save the changes.\n",
    "\n",
    "4. Exercise 4: Modify and Filter Data\n",
    "- **Task**: Read the 'enzymes.csv' file, then filter and display enzymes with an optimal pH greater than 7.\n",
    "- **Hint**: Use a boolean condition to filter the DataFrame and display the result.\n",
    "\n",
    "5. Exercise 5: Merge DataFrames\n",
    "- **Task**: Create a separate dataframe (from a dictionary) with the same enzymes as enzymes.csv, but with corresponding inhibitors (you can look up some inhibitors online). Save the new dataframe as a CSV file- 'inhibitors.csv' with enzyme inhibitor data (Name, Inhibitor). Merge this with the 'enzymes.csv' DataFrame and display the merged DataFrame.\n",
    "- **Hint**: Use `pd.merge()` to merge DataFrames Good luck!"
   ]
  },
  {
   "cell_type": "code",
   "execution_count": null,
   "id": "ca1fe318-c215-4c11-b0f8-d3b74598f717",
   "metadata": {},
   "outputs": [],
   "source": [
    "# Your Answers Here; Create Additional Cells as Needed"
   ]
  },
  {
   "cell_type": "markdown",
   "id": "c87e372b-773c-4623-942e-8e0ad71e793d",
   "metadata": {
    "jp-MarkdownHeadingCollapsed": true
   },
   "source": [
    "## Solutions"
   ]
  },
  {
   "cell_type": "code",
   "execution_count": 13,
   "id": "a5c59cbd-4e64-4c9e-b187-8e04855da4fd",
   "metadata": {},
   "outputs": [
    {
     "name": "stdout",
     "output_type": "stream",
     "text": [
      "Enzymes DataFrame saved to 'enzymes.csv'\n",
      "First 5 rows of the enzymes DataFrame:\n",
      "        Name                      Function  Optimal_pH\n",
      "0  Catalase  Break down hydrogen peroxide         7.0\n",
      "1   Amylase              Starch digestion         6.8\n",
      "2    Lipase                 Fat digestion         8.0\n",
      "Updated enzymes DataFrame saved to 'enzymes.csv'\n",
      "Alkaline enzymes:\n",
      "      Name       Function  Optimal_pH  ActiveInHumans\n",
      "2  Lipase  Fat digestion         8.0           False\n",
      "Merged DataFrame with inhibitors:\n",
      "        Name                      Function  Optimal_pH  ActiveInHumans  \\\n",
      "0  Catalase  Break down hydrogen peroxide         7.0            True   \n",
      "1   Amylase              Starch digestion         6.8            True   \n",
      "2    Lipase                 Fat digestion         8.0           False   \n",
      "\n",
      "           Inhibitor  \n",
      "0  Potassium Cyanide  \n",
      "1           Acarbose  \n",
      "2           Orlistat  \n"
     ]
    }
   ],
   "source": [
    "# Importing necessary libraries\n",
    "import pandas as pd\n",
    "\n",
    "# Exercise 1: Create and Save DataFrame\n",
    "enzymes_data = {\n",
    "    'Name': ['Catalase', 'Amylase', 'Lipase'],\n",
    "    'Function': ['Break down hydrogen peroxide', 'Starch digestion', 'Fat digestion'],\n",
    "    'Optimal_pH': [7.0, 6.8, 8.0]\n",
    "}\n",
    "enzymes_df = pd.DataFrame(enzymes_data)\n",
    "enzymes_df.to_csv('enzymes.csv', index=False)\n",
    "print(\"Enzymes DataFrame saved to 'enzymes.csv'\")\n",
    "\n",
    "# Exercise 2: Read and Display CSV File\n",
    "enzymes_df = pd.read_csv('enzymes.csv')\n",
    "print(\"First 5 rows of the enzymes DataFrame:\\n\", enzymes_df.head())\n",
    "\n",
    "# Exercise 3: Add Column to DataFrame\n",
    "enzymes_df['ActiveInHumans'] = [True, True, False]\n",
    "enzymes_df.to_csv('enzymes.csv', index=False)\n",
    "print(\"Updated enzymes DataFrame saved to 'enzymes.csv'\")\n",
    "\n",
    "# Exercise 4: Modify and Filter Data\n",
    "enzymes_df = pd.read_csv('enzymes.csv')\n",
    "alkaline_enzymes = enzymes_df[enzymes_df['Optimal_pH'] > 7]\n",
    "print(\"Alkaline enzymes:\\n\", alkaline_enzymes)\n",
    "\n",
    "# Exercise 5: Merge DataFrames\n",
    "# Create a dataframe to merge\n",
    "inhibitors_df = pd.DataFrame({\n",
    "    'Name': ['Catalase', 'Amylase', 'Lipase'],\n",
    "    'Inhibitor': ['Potassium Cyanide', 'Acarbose', 'Orlistat']\n",
    "})\n",
    "\n",
    "# Write the dataframe as a .csv file\n",
    "inhibitors_df.to_csv('inhibitors.csv', index=False)\n",
    "\n",
    "# Read the .csv as a dataframe\n",
    "imported_inhibitors_df = pd.read_csv('inhibitors.csv') \n",
    "\n",
    "merged_df = pd.merge(enzymes_df, inhibitors_df, on='Name', how='left')\n",
    "print(\"Merged DataFrame with inhibitors:\\n\", merged_df)"
   ]
  }
 ],
 "metadata": {
  "kernelspec": {
   "display_name": "Python 3 (ipykernel)",
   "language": "python",
   "name": "python3"
  },
  "language_info": {
   "codemirror_mode": {
    "name": "ipython",
    "version": 3
   },
   "file_extension": ".py",
   "mimetype": "text/x-python",
   "name": "python",
   "nbconvert_exporter": "python",
   "pygments_lexer": "ipython3",
   "version": "3.9.18"
  }
 },
 "nbformat": 4,
 "nbformat_minor": 5
}
