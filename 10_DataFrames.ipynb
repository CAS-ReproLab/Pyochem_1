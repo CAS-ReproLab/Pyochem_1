{
 "cells": [
  {
   "cell_type": "markdown",
   "id": "17027c24-2e47-4fac-9cdd-49af9975ea5c",
   "metadata": {},
   "source": [
    "# A Primer on Pandas DataFramesP\n",
    "pandas DataFrames are a fundamental tool in Python for data manipulation and analysis. Understanding these core concepts is essential for effective data handling in scientific computngi, especially for large multivariate datasety.\r\n",
    "\r\n",
    "## DataFrame Basics\r\n",
    "- **Definition**: A DataFrame is a two-dimensional, size-mutable, and potentially heterogeneous tabular data structure with labeled axes (rows and columns).\r\n",
    "- **Creation**: DataFrames can be created from various data sources like lists, dictionaries, or reading from files (e.g., CSV, Excel).\r\n",
    "\r\n",
    "## Key Components\r\n",
    "- **Rows and Columns**: DataFrames are composed of rows and columns, each row representing a record and each column a feature.\r\n",
    "- **Index**: Each row has an index, which can be numeric, string, or datetime. It's crucial for data alignment and manipulation.\r\n",
    "- **Data Types**: Columns can hold different types of data (integers, strings, floats, etc.).\r\n",
    "\r\n",
    "## Data Manipulation\r\n",
    "- **Selection**: Accessing specific rows, columns, or cells using loc, iloc, or column names.\r\n",
    "- **Filtering**: Extracting a subset of rows based on a condition.\r\n",
    "- **Adding Columns**: Enhancing DataFrames by calculating new columns or adding data.\r\n",
    "- **Aggregation**: Performing statistical operations like mean, median, sum, etc., on columns.\r\n",
    "\r\n",
    "## Merging and Joining\r\n",
    "- **Merging**: Combining two DataFrames based on common columns.\r\n",
    "- **Joining**: Linking DataFrames using their indexes.\r\n",
    "\r\n",
    "## Handling Missing Data\r\n",
    "- **Detection**: Identifying missing or NaN values in the DataFrame.\r\n",
    "- **Filling**: Replacing missing values with specific values or statistical measures (mean, median).\r\n",
    "- **Dropping**: Removing rows or columns with missing values.\r\n",
    "\r\n",
    "## Input/Output\r\n",
    "- **Reading Data**: Loading data from various file formats into DataFrames.\r\n",
    "- **Writing Data**: Exporting DataFrames to different file formats for storage or further analysis.\r\n",
    "\r\n",
    "## Conclusion\r\n",
    "- pandas DataFrames provide a powerful, flexible, and efficient tool for handling and analyzing large datasets in Python.\r\n",
    "- Their wide range of functionalities makes them indispensable for data preprocessing, exploration, and transformation in scientific computing, especilly in fields like biochemistry.\r\n"
   ]
  },
  {
   "cell_type": "markdown",
   "id": "b5f1a6cd-e335-4779-8298-97abf99d3456",
   "metadata": {},
   "source": [
    "## Code Examples"
   ]
  },
  {
   "cell_type": "code",
   "execution_count": null,
   "id": "535abed4-34fa-45fd-817d-963ad1afcb86",
   "metadata": {
    "scrolled": true
   },
   "outputs": [],
   "source": [
    "# Python pandas DataFrames for biochemistry applications\n",
    "# -----------------------------------------\n",
    "\n",
    "# Importing necessary libraries\n",
    "import pandas as pd\n",
    "import numpy as np\n",
    "\n",
    "# Creating a DataFrame\n",
    "# --------------------\n",
    "# Example: Creating a DataFrame to store amino acid properties\n",
    "# Start by creating a dictionary with amino acid molecular weights keyed to their corresponding amino acid name\n",
    "amino_acids = {\n",
    "    'AminoAcid': ['Alanine', 'Cysteine', 'Aspartic Acid', 'Glutamine'],\n",
    "    'MolecularWeight': [89.1, 121.2, 133.1, 146.1],\n",
    "    'pKa': [2.34, 1.96, 3.9, 2.17]\n",
    "}\n",
    "# Convert the dictionary to a dataframe\n",
    "amino_acids_df = pd.DataFrame(amino_acids)\n",
    "print(\"Amino Acids DataFrame:\\n\", amino_acids_df)\n",
    "\n",
    "# Accessing DataFrame Elements\n",
    "# ----------------------------\n",
    "# Accessing specific columns\n",
    "weights = amino_acids_df['MolecularWeight']\n",
    "print(\"Molecular Weights:\\n\", weights)\n",
    "\n",
    "# Accessing rows using loc and iloc\n",
    "alanine_data = amino_acids_df.loc[0]\n",
    "print(\"Data for Alanine:\\n\", alanine_data)\n",
    "\n",
    "# DataFrame Operations\n",
    "# ---------------------\n",
    "# Filtering: Selecting amino acids with a molecular weight greater than 120\n",
    "heavy_amino_acids = amino_acids_df[amino_acids_df['MolecularWeight'] > 120]\n",
    "print(\"Heavy Amino Acids:\\n\", heavy_amino_acids)\n",
    "\n",
    "# Adding a new column: Calculating the molar mass of amino acids\n",
    "amino_acids_df['MolarMass'] = amino_acids_df['MolecularWeight'] * 1.66054\n",
    "print(\"Amino Acids with Molar Mass:\\n\", amino_acids_df)\n",
    "\n",
    "# Aggregation: Calculating average molecular weight\n",
    "average_weight = amino_acids_df['MolecularWeight'].mean()\n",
    "print(\"Average Molecular Weight:\", average_weight)\n",
    "\n",
    "# DataFrame Merging and Joining\n",
    "# ------------------------------\n",
    "# Example: Merging with another DataFrame\n",
    "# Assume we have another DataFrame with solubility data\n",
    "solubility_data = pd.DataFrame({\n",
    "    'AminoAcid': ['Alanine', 'Cysteine', 'Glutamine'],\n",
    "    'Solubility': [167, 200, 180]  # Solubility in g/L\n",
    "})\n",
    "merged_df = pd.merge(amino_acids_df, solubility_data, on='AminoAcid', how='left')\n",
    "print(\"Merged DataFrame with Solubility:\\n\", merged_df)\n",
    "\n",
    "# Handling Missing Data\n",
    "# ----------------------\n",
    "# Filling missing values with a default value (e.g., average solubility)\n",
    "merged_df['Solubility'].fillna(merged_df['Solubility'].mean(), inplace=True)\n",
    "print(\"DataFrame with Missing Values Handled:\\n\", merged_df)"
   ]
  },
  {
   "cell_type": "markdown",
   "id": "0e14ac8d-04b5-4197-8db0-de038736c611",
   "metadata": {},
   "source": [
    "## Some additional pandas functions\n",
    "These are particularly useful with dealing with very large datasets (which is where DataFrames really shine)"
   ]
  },
  {
   "cell_type": "code",
   "execution_count": null,
   "id": "25a2eda7-a3f1-41ad-b2e6-c73b59a837c7",
   "metadata": {
    "scrolled": true
   },
   "outputs": [],
   "source": [
    "# Check the first five rows and column headers (useful for large dataframes)\n",
    "amino_acids_df.head()\n",
    "# Also try, \n",
    "#amino_acids_df.tail()\n",
    "# What does this do?"
   ]
  },
  {
   "cell_type": "code",
   "execution_count": null,
   "id": "97334cdc-dc82-4c6e-88c4-0d05a28a390b",
   "metadata": {},
   "outputs": [],
   "source": [
    "# Descriptive statistics\n",
    "amino_acids_df.describe()\n",
    "\n",
    "# Also try amino_acids_df.info()"
   ]
  },
  {
   "cell_type": "markdown",
   "id": "52f46de4-3e86-4f2b-bfec-c8f380fa87de",
   "metadata": {},
   "source": [
    "# Exercises\r\n",
    "\r\n",
    "## Exercise 1: DataFrame Creation\r\n",
    "- **Task**: Create a DataFrame for storing data about different enzymes, including their names, optimal pH, and temperature.\r\n",
    "- **Hint**: Define a dictionary with enzyme information and convert it into a DataFrame using `pd.DataFrame()`.\r\n",
    "\r\n",
    "## Exercise 2: Data Access and Manipulation\r\n",
    "- **Task**: From the enzyme DataFrame, select and print only the names and optimal temperatures of enzymes.\r\n",
    "- **Hint**: Use DataFrame indexing to select specific columns.\r\n",
    "\r\n",
    "## Exercise 3: Filtering Data\r\n",
    "- **Task**: Filter and display enzymes that operate at a pH greater than 7.\r\n",
    "- **Hint**: Use a boolean condition to filter rows based on pH values.\r\n",
    "\r\n",
    "## Exercise 4: Adding and Computing a New Column\r\n",
    "- **Task**: Add a new column to the enzyme DataFrame that indicates whether the enzyme is thermophilic (optimal temperature > 60°C).\r\n",
    "- **Hint**: Use a lambda function and `apply()` method to create the new column based on temperature.\r\n",
    "\r\n",
    "## Exercise 5: Merging DataFrames\r\n",
    "- **Task**: Assume you have another DataFrame with enzyme inhibition data. Merge it with the enzyme DataFrame based on enzyme names.\r\n",
    "- **Hint**: Use `pd.merge()` function and specify the 'name' column as the key.\r\n",
    "\r\n",
    "## Exercise 6: Handling Missing Data\r\n",
    "- **Task**: In the merged DataFrame, fill any missing inhibition data with the average inhibition value.\r\n",
    "- **Hint**: Use `fillna()` method on the DataFrame, replacing NaN values withng and analysis. Good luck!\r\n"
   ]
  },
  {
   "cell_type": "code",
   "execution_count": null,
   "id": "174c8c17-3e39-4541-9227-5e90b01fc02b",
   "metadata": {},
   "outputs": [],
   "source": [
    "# Your Answer Here"
   ]
  },
  {
   "cell_type": "markdown",
   "id": "f11dc18a-ec67-420a-bf4a-425fcb31bc82",
   "metadata": {},
   "source": [
    "## Solutions"
   ]
  },
  {
   "cell_type": "code",
   "execution_count": null,
   "id": "761a4650-e10b-442b-b00b-b62c48732d80",
   "metadata": {},
   "outputs": [],
   "source": [
    "# Importing necessary libraries\n",
    "import pandas as pd\n",
    "\n",
    "# Exercise 1: DataFrame Creation\n",
    "enzymes_dict = {\n",
    "    'Name': ['Lipase', 'Amylase', 'Protease'],\n",
    "    'Optimal_pH': [8.0, 7.0, 6.5],\n",
    "    'Optimal_Temperature': [37, 67, 50]  # in Celsius\n",
    "}\n",
    "enzymes_df = pd.DataFrame(enzymes_dict)\n",
    "print(\"Enzymes DataFrame:\\n\", enzymes_df)\n",
    "\n",
    "# Exercise 2: Data Access and Manipulation\n",
    "enzyme_temp = enzymes_df[['Name', 'Optimal_Temperature']]\n",
    "print(\"Enzymes and their Optimal Temperatures:\\n\", enzyme_temp)\n",
    "\n",
    "# Exercise 3: Filtering Data\n",
    "alkaline_enzymes = enzymes_df[enzymes_df['Optimal_pH'] > 7]\n",
    "print(\"Alkaline Enzymes:\\n\", alkaline_enzymes)\n",
    "\n",
    "# Exercise 4: Adding and Computing a New Column\n",
    "enzymes_df['Thermophilic'] = enzymes_df['Optimal_Temperature'].apply(lambda x: x > 60)\n",
    "print(\"Enzymes DataFrame with Thermophilic Column:\\n\", enzymes_df)\n",
    "\n",
    "# Exercise 5: Merging DataFrames\n",
    "# Assuming another DataFrame with inhibition data\n",
    "inhibition_data = pd.DataFrame({\n",
    "    'Name': ['Lipase', 'Amylase'],\n",
    "    'Inhibition': [50, 70]  # Inhibition in percentage\n",
    "})\n",
    "merged_df = pd.merge(enzymes_df, inhibition_data, on='Name', how='left')\n",
    "print(\"Merged DataFrame with Inhibition Data:\\n\", merged_df)\n",
    "\n",
    "# Exercise 6: Handling Missing Data\n",
    "merged_df['Inhibition'].fillna(merged_df['Inhibition'].mean(), inplace=True)\n",
    "print(\"Merged DataFrame with Missing Data Handled:\\n\", merged_df)\n"
   ]
  }
 ],
 "metadata": {
  "kernelspec": {
   "display_name": "Python 3 (ipykernel)",
   "language": "python",
   "name": "python3"
  },
  "language_info": {
   "codemirror_mode": {
    "name": "ipython",
    "version": 3
   },
   "file_extension": ".py",
   "mimetype": "text/x-python",
   "name": "python",
   "nbconvert_exporter": "python",
   "pygments_lexer": "ipython3",
   "version": "3.9.18"
  }
 },
 "nbformat": 4,
 "nbformat_minor": 5
}
