{
 "cells": [
  {
   "cell_type": "markdown",
   "id": "5b215734-3858-45ee-a6db-c4a03349167c",
   "metadata": {},
   "source": [
    "# Preface to Pyochem_1\n",
    "Learn scientific computing for biochemistry applications using Jupyter notebooks."
   ]
  },
  {
   "cell_type": "markdown",
   "id": "36d8a1fd-c685-4a17-a9f0-8f09dcdbefd4",
   "metadata": {},
   "source": [
    "## Why Python?\n",
    "- Python and R are probably the two most common languages used in scientific computing.\n",
    "- Unless you are a developer, the functional differences between the two are scant, and the decision of which to use should depend on personal preference and specific need.\n",
    "- I prefer python because of its generality, and the syntax reads more naturally for me."
   ]
  },
  {
   "cell_type": "markdown",
   "id": "756635a6-8062-41b8-9260-cd9be796d72d",
   "metadata": {},
   "source": [
    "## How to learn from this series\n",
    "- Programming is 90% problem solving, 10% communicating with the computer.\n",
    "- Many students I have interacted with set out to `learn programming`. The idea seems to be to spend time gaining proficiency with the promise of applying the knowledge once some adequate level of proficiency is obtained.\n",
    "- **I don't recommend that**: I've tried it, with programming and with math. It doesn't work.\n",
    "- Instead, I recommend focusing on specific skills. Every concept and exercise in this series is couched in something useful.\n",
    "- I recommend a `small learning` approach: spend time understanding each concept or skill, and more importantly, what you can do with it to help you solve problems that you are `interested` in.\n",
    "- Over time, those abilities will merge into mastery."
   ]
  },
  {
   "cell_type": "markdown",
   "id": "8313a5b9-6f19-4842-9bd7-a9c9b5d6cdfd",
   "metadata": {},
   "source": [
    "## When you get stuck\n",
    "- Use language models such as ChatGPT often when practicing programming. Don't rely on them completely, but use them as a source of new ideas, for troubleshooting assistance, and as a way of making long tedious tasks (e.g., code commenting) very quick and accessible.\n",
    "- **A note on prompting**: When prompting AI Chat, it helps to understand what the model is doing. It scans through your input text, and depending on the sequence of groups of letters/words it sees, it will make a probabilistic estimate of an appropriate response. It was trained on many text inputs, which are mapped to a mathematical space that associates words and meanings with neighboring concepts. So, in effect every response is a 'guess'. `These models don't know anything about the truth value of their statements`. That's up to you to determine. They tend to do extremely well at producing error free code. So, as they say: `Trust, but verify`.\n",
    "- **Basic prompt format**: The prompt can significantly influence the output.\n",
    "- I recommend specifying these three things in every prompt:\n",
    "    - A role: For example 'you are a computer scientist'.\n",
    "    - A specific problem: For example 'write a for-loop in python that iterates through a list of numbers and returns each value incremented by 1'.\n",
    "    - A specific format for the output: For example 'format the response in a single code cell in markdown language for easy copy/pasting into a Jupyter notebook'.\n",
    "- When asking ChatGPT to fix code errors, be sure to give it all the context it needs, then provide it the input. For example *'I received this error in my python code (paste error). Please modify the code to resolve the error. Format the output as a single code cell for pasting into a Jupyter notebook. Here is the python code: (paste code)'*"
   ]
  }
 ],
 "metadata": {
  "kernelspec": {
   "display_name": "Python 3 (ipykernel)",
   "language": "python",
   "name": "python3"
  },
  "language_info": {
   "codemirror_mode": {
    "name": "ipython",
    "version": 3
   },
   "file_extension": ".py",
   "mimetype": "text/x-python",
   "name": "python",
   "nbconvert_exporter": "python",
   "pygments_lexer": "ipython3",
   "version": "3.9.18"
  }
 },
 "nbformat": 4,
 "nbformat_minor": 5
}
