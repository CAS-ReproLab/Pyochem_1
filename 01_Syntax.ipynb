{
 "cells": [
  {
   "cell_type": "markdown",
   "id": "e60c630f-5eea-48e8-8e43-1f0fe03d60a5",
   "metadata": {},
   "source": [
    "# A Primer on Basic Python Syntax\n",
    "\n",
    "Python's syntax is designed for readability and efficiency, making it an ideal language for scientific computing in fields like biochemistry. Here's an overview of some basic syntax rules and concepts:"
   ]
  },
  {
   "cell_type": "markdown",
   "id": "a002d015-90be-4897-a39c-b338656e9599",
   "metadata": {},
   "source": [
    "## Variables and Printing\n",
    "- `Variables` can store different data types such as float (decimal) numbers , integers, strings, boolean values and more complex data structures such as lists, tuples, and dictionaries.\n",
    "- `Variables` can start with a '_' or a letter. They cannot start with a number.\n",
    "- Use the `print()` function for outputting data. This is the simplest way to test your code.\n",
    "- Use the `type()` function for checking the type of variable.\n",
    "    - Strings '' or \"\" are character variables\n",
    "    - Ints are integers or whole numbers\n",
    "    - Floats are decimal numbers\n",
    "    - Boolean values are assigned True or Fal\n",
    "- **Note**: Functions will be explained in more detail shortly. For now, just notice the pattern: `function`(`input argument`)"
   ]
  },
  {
   "cell_type": "code",
   "execution_count": 5,
   "id": "601bbca8-d436-4c49-9f2a-c3380a8976ff",
   "metadata": {},
   "outputs": [
    {
     "name": "stdout",
     "output_type": "stream",
     "text": [
      "DNA Sequence: AGCTCGTACGATCG\n",
      "this variable is a <class 'str'>\n",
      "the pH is 7.0\n",
      "this variable is a <class 'float'>\n",
      "it is True that this is a compliment base\n",
      "this variable is a <class 'bool'>\n"
     ]
    }
   ],
   "source": [
    "# Basic Python Syntax: Variables and Printing\n",
    "# -------------------------------------------------\n",
    "# Defining a string \"\" variable to store a DNA sequence\n",
    "dna_sequence = \"AGCTCGTACGATCG\"\n",
    "# Printing the DNA sequence using an f string\n",
    "print(\"DNA Sequence:\", dna_sequence)\n",
    "# Printing the type without using an f string\n",
    "print(\"this variable is a\", type(dna_sequence))\n",
    "\n",
    "# Defining a variable to store a pH value\n",
    "pH = 7.0\n",
    "print(\"the pH is\", pH)\n",
    "print(\"this variable is a\", type(pH))\n",
    "\n",
    "# Defining a Boolean variable\n",
    "compliment_base = True\n",
    "print(\"it is\", compliment_base, \"that this is a compliment base\")\n",
    "print(\"this variable is a\", type(compliment_base))"
   ]
  },
  {
   "cell_type": "markdown",
   "id": "862df4ad-f076-4b9b-a14a-06b3651110ae",
   "metadata": {},
   "source": [
    "### Exercise 1: Variables\n",
    "- **Task**: Define four different types of variables. Print their output and their types.  "
   ]
  },
  {
   "cell_type": "code",
   "execution_count": null,
   "id": "402998e1-1b23-423c-ade7-b8b564c5be3d",
   "metadata": {},
   "outputs": [],
   "source": [
    "# Your Answers Here; Create additional blocks as necessary"
   ]
  },
  {
   "cell_type": "markdown",
   "id": "83da0868-8a28-4000-8f1e-fd0fd5a55630",
   "metadata": {},
   "source": [
    "## Data Structures\n",
    "**Lists**\n",
    "- Create lists using square brackets and comma separated items `[1, 2, 3]`.\n",
    "- Store ordered collections of items, like amino acids `[Arg, Lys, Cys]`.\n",
    "- Iterate over lists with `for` loops to perform operations on each element. We'll revisit this in more detail later, but for now, it is important to know that the power of lists is that they can store sets of things that you can access and manipulate.\n",
    "\n",
    "**Dictionaries**\n",
    "- Use curly braces `{}` to define `dictionaries`.\n",
    "- Store data as key-value pairs, ideal for mapping relationships, like amino acids to their properties `{A:1, B:2, C:3}`.\n",
    "- Access values by referencing their keys.\n",
    "\n",
    "**Note**: There are other data structures, but these are all you'll need for now."
   ]
  },
  {
   "cell_type": "code",
   "execution_count": 3,
   "id": "986f1f2a-90b9-4647-b7ad-5194402cb1d5",
   "metadata": {},
   "outputs": [
    {
     "name": "stdout",
     "output_type": "stream",
     "text": [
      "Amino Acid: Alanine\n",
      "Amino Acid: Cysteine\n",
      "Amino Acid: Aspartic Acid\n",
      "Amino Acid: Glutamine\n",
      "the molecular weight of adenine is 331.2\n"
     ]
    }
   ],
   "source": [
    "# Creating a list [] of amino acids\n",
    "amino_acids = ['Alanine', 'Cysteine', 'Aspartic Acid', 'Glutamine']\n",
    "\n",
    "# Iterating over the list and printing each amino acid\n",
    "for acid in amino_acids: # Notice the colon!\n",
    "    print(\"Amino Acid:\", acid) # Notice the indentation!\n",
    "\n",
    "# Creating a dictionary of nucleotide bases and their corresponding molecular weights\n",
    "weights = {'A': 331.2, 'G': 347.2, 'C': 307.2, 'T': 322.2}\n",
    "print(\"the molecular weight of adenine is\", weights['A'])"
   ]
  },
  {
   "cell_type": "markdown",
   "id": "efb54bee-ba9c-4190-a4e9-209579929b1c",
   "metadata": {},
   "source": [
    "### Exercise 2: Lists and Dictionaries\n",
    "- **Task**: Create a `variable` and assign a `list` to it that contains some list items (they can be whatever you want). Write a `for loop` to iterate through the list and print all of the items.\n",
    "- **Task**: Check to see what type of data structure the output is.\n",
    "- **Note**: When creating the `for loop` pay attention to the importance of indentation. Try to execute the code without indenting. What happens?\n",
    "- **Task**: Create a dictionary that contains molecular keys, and their corresponding molecular weights."
   ]
  },
  {
   "cell_type": "code",
   "execution_count": null,
   "id": "8cbb0f24-2e5b-459e-92bf-be7cbbb6791e",
   "metadata": {},
   "outputs": [],
   "source": [
    "# Your Answer Here; Create additional code blocks as necessary"
   ]
  },
  {
   "cell_type": "markdown",
   "id": "d5a4c2c3-02c0-4078-82ad-c0389ad80bd2",
   "metadata": {},
   "source": [
    "## Functions\n",
    "- Define functions using the `def` keyword.\n",
    "- Functions encapsulate reusable code. Functions are helpful for repeated tasks.\n",
    "- Return values using the `return` statement."
   ]
  },
  {
   "cell_type": "code",
   "execution_count": 12,
   "id": "b6cd5755-9715-4fbe-804b-07c2b40f8fdd",
   "metadata": {},
   "outputs": [
    {
     "name": "stdout",
     "output_type": "stream",
     "text": [
      "Molecular Weight of DNA: 4577.799999999999 g/mol\n",
      "Molecular Weight of DNA: 4577.8 g/mol\n"
     ]
    }
   ],
   "source": [
    "# Defining a function to calculate the molecular weight of a DNA sequence     \n",
    "def calculate_mw(dna_seq):\n",
    "    weights = {'A': 331.2, 'G': 347.2, 'C': 307.2, 'T': 322.2}\n",
    "    mw = 0 # initializing the variable to a 0 molecular weight value\n",
    "    for base in dna_seq:\n",
    "        mw += weights[base] # increment the mw variable with each new molecular weight\n",
    "    return mw\n",
    "\n",
    "# Calculating and printing the molecular weight of an input DNA sequence\n",
    "dna_sequence = \"AGCTCGTACGATCG\" \n",
    "\n",
    "mol_weight = calculate_mw(dna_sequence)\n",
    "print(\"Molecular Weight of DNA:\", mol_weight, \"g/mol\")\n",
    "\n",
    "# We can also use the native round() function to shorten the decimal output\n",
    "print(\"Molecular Weight of DNA:\", round(mol_weight, 3), \"g/mol\")  # Using round() to format the molecular weight"
   ]
  },
  {
   "cell_type": "code",
   "execution_count": 13,
   "id": "0cf4ecb5-c703-4a7c-bffa-9ebccfd075ff",
   "metadata": {},
   "outputs": [
    {
     "name": "stdout",
     "output_type": "stream",
     "text": [
      "The molecular weight is 3634.1999999999994\n"
     ]
    }
   ],
   "source": [
    "# Now that the function has been defined, we can use it anytime we want!\n",
    "# Just pass the function the input argument (i.e., a string variable of DNA bases)\n",
    "new_sequence = 'ATAAAAAAAAA'\n",
    "print('The molecular weight is', calculate_mw(new_sequence))"
   ]
  },
  {
   "cell_type": "markdown",
   "id": "423e66e4-e169-4519-8c69-d854a40ffa28",
   "metadata": {},
   "source": [
    "### Exercise 3: Functions\n",
    "- **Task**: Create a function. It should take an input, do some operation, and provide ouput. Be sure to test the function by `calling` it and provide it some input. The simplest option is to `print` an input."
   ]
  },
  {
   "cell_type": "code",
   "execution_count": null,
   "id": "ba5fffcc-4ca9-4ce3-92a3-b88ed9663ba4",
   "metadata": {},
   "outputs": [],
   "source": [
    "# Your Answer Here"
   ]
  },
  {
   "cell_type": "markdown",
   "id": "19185b0f-f2c8-4e43-bbf1-83792745430c",
   "metadata": {},
   "source": [
    "## Importing and using Libraries\n",
    "- `Libraries` are collections of prepackaged code suited to specific tasks.\n",
    "- Python is `modular`, allowing you to choose the only the functionality you need.\n",
    "- Use the `import` statement to include external libraries, essential for scientific computing.\n",
    "- Use the `as` command to change the name to something shorter if desired to save on typing later on.\n",
    "- Common libraries:\n",
    "    - `numpy` for numerical operations\n",
    "    - `matplotlib.pyplot` for plotting\n",
    "    - `seaborn` another plotting utility\n",
    "    - `pandas` for data handling\n",
    " \n",
    "**NumPy Arrays**\n",
    "- Utilize `NumPy arrays` for efficient numerical computations.\n",
    "- They behave like matrices.\n",
    "- Perform operations on many values at once, or single values using numpy's pre-defined functions such as mean().\n",
    "- Arrays are useful for handling large datasets.\n",
    "- Arrays are also a useful way to encode images in Python.\n",
    "\n",
    "**Plotting with Matplotlib**\n",
    "- Use Matplotlib for data visualization.\n",
    "- Create plots, histograms, scatter plots, etc., to visually represent data."
   ]
  },
  {
   "cell_type": "code",
   "execution_count": 15,
   "id": "e8169215-f64d-4761-bf8c-d45b51360f37",
   "metadata": {},
   "outputs": [
    {
     "name": "stdout",
     "output_type": "stream",
     "text": [
      "Mean pH: 7.1\n"
     ]
    },
    {
     "data": {
      "image/png": "[encoded data removed]",
      "text/plain": [
       "<Figure size 400x200 with 1 Axes>"
      ]
     },
     "metadata": {},
     "output_type": "display_data"
    }
   ],
   "source": [
    "# Importing necessary libraries for the following examples\n",
    "import numpy as np\n",
    "import matplotlib.pyplot as plt\n",
    "\n",
    "# Creating a numpy array of pH values\n",
    "# -------------------------------------------------\n",
    "# Creating a NumPy array of sample pH values\n",
    "ph_values = np.array([7.0, 7.4, 6.8, 7.2, 7.1])\n",
    "temp_values = np.array([25, 20, 31, 21, 24])\n",
    "# Calculating the mean pH\n",
    "mean_ph = np.mean(ph_values)\n",
    "print(\"Mean pH:\", mean_ph)\n",
    "\n",
    "# Plotting Data with Matplotlib\n",
    "# -------------------------------------------------\n",
    "# Generating a simple plot of pH values Vs. Temperature\n",
    "plt.figure(figsize = (4,2)) # Creates a figure object of an indicated size\n",
    "plt.scatter(temp_values, ph_values) # Fills the figure object with a scatter plot\n",
    "plt.title(\"Sample pH Values Over Time\")\n",
    "plt.xlabel(\"Temperature (Celsius)\")\n",
    "plt.ylabel(\"pH\")\n",
    "plt.show()"
   ]
  },
  {
   "cell_type": "markdown",
   "id": "cf53d5f6-7a2d-407d-bfb2-67a972edd47f",
   "metadata": {},
   "source": [
    "### Exercise 4: Importing and Using Libraries\n",
    "- **Task**: Create two `numpy arrays` containing related values. Calculate the mean for each.\n",
    "- **Task**: `Plot` the data from exercise 4 using matplotlib.pylot methods"
   ]
  },
  {
   "cell_type": "code",
   "execution_count": null,
   "id": "65da02c3-9279-4fdf-a264-4022c5f3a2be",
   "metadata": {},
   "outputs": [],
   "source": [
    "# Your Answer Here; Create additional code blocks as necessary"
   ]
  },
  {
   "cell_type": "markdown",
   "id": "36a8fe42-88f1-4143-a59e-2a6cf961208a",
   "metadata": {},
   "source": [
    "# Advanced Exercises\n",
    "Feel free to peak at the solutions, but don't copy/paste or you won't learn anything. Try to understand what each code element does, and get an intuitive feel for the syntax. \r\n",
    "\r\n",
    "## Exercise 1: DNA Sequence Manipulation\r\n",
    "- **Task**: Given a DNA sequence, write a function to compute its complementary strand.\r\n",
    "- **Hint**: In DNA, A pairs with T, and G pairs with C.\r\n",
    "\r\n",
    "## Exercise 2: Amino Acid Analysis\r\n",
    "- **Task**: Extend the `amino_acids` list with five more amino acids. Then, iterate over this list and print each amino acid along with its length (number of characters).\r\n",
    "- **Hint**: Use a `for` loop and the `len()` function.\r\n",
    "\r\n",
    "## Exercise 3: Molecular Weight Calculator Enhancement\r\n",
    "- **Task**: Modify the `calculate_mw` function to handle both DNA and RNA sequences. Account for the difference in molecular weight of Uracil in RNA.\r\n",
    "- **Hint**: Add a condition to check if the sequence is DNA or RNA and adjust the weights dictionary accordingly.\r\n",
    "\r\n",
    "## Exercise 4: Statistical Analysis of pH Values\r\n",
    "- **Task**: Given a new set of pH values, calculate and print the mean, median, and standard deviation.\r\n",
    "- **Hint**: Use NumPy functions `np.mean()`, `np.median()`, and `np.std()`.\r\n",
    "\r\n",
    "## Exercise 5: Data Visualization Challenge\r\n",
    "- **Task**: Create a scatter plot of the pH values against time. Customize the plot with a title, axis labels, and a different color for the markers.\r\n",
    "- **Hint**: Use `plt.scatter()` and explore the `matplotlib.pyplot` documentation for customization options.\r\n",
    "\r\n",
    "## Exercise 6: Advanced Data Structure\r\n",
    "- **Task**: Add three more amino acids to the `amino_acid_properties` dictionary with their respective `pKa` and `polarity`. Then, write a function to print the properties of a given amino acid.\r\n",
    "- **Hint**: Define a function that takes an amino acid name as input and accesses its propert to biochemistry. Good luck!\r\n"
   ]
  },
  {
   "cell_type": "code",
   "execution_count": null,
   "id": "cfcc2d67-5dfb-42bb-a652-0434b85ae7ff",
   "metadata": {},
   "outputs": [],
   "source": [
    "# Your Answer(s) Here; Create New Cells as Needed"
   ]
  },
  {
   "cell_type": "markdown",
   "id": "f1f7bac1-880a-4920-aba1-e43aa1c29d42",
   "metadata": {
    "jp-MarkdownHeadingCollapsed": true
   },
   "source": [
    "## Solutions to Advanced Exercises"
   ]
  },
  {
   "cell_type": "code",
   "execution_count": null,
   "id": "c92b3e2a-a2af-4762-b61b-4538ddd2b1cd",
   "metadata": {},
   "outputs": [],
   "source": [
    "# Import necessary libraries\n",
    "import numpy as np\n",
    "import matplotlib.pyplot as plt\n",
    "\n",
    "# Exercise 1: DNA Sequence Manipulation\n",
    "def complement_dna(dna_seq):\n",
    "    complement = {'A': 'T', 'T': 'A', 'G': 'C', 'C': 'G'}\n",
    "    return ''.join([complement[base] for base in dna_seq])\n",
    "\n",
    "# Example usage\n",
    "dna = \"AGCTCGTACGATCG\"\n",
    "print(\"Complement of\", dna, \"is\", complement_dna(dna))\n",
    "\n",
    "# Exercise 2: Amino Acid Analysis\n",
    "amino_acids = ['Alanine', 'Cysteine', 'Aspartic Acid', 'Glutamine', \n",
    "               'Valine', 'Leucine', 'Isoleucine', 'Methionine', 'Phenylalanine']\n",
    "for acid in amino_acids:\n",
    "    print(\"Amino Acid:\", acid, \"- Length:\", len(acid))\n",
    "\n",
    "# Exercise 3: Molecular Weight Calculator Enhancement\n",
    "def calculate_mw_enhanced(sequence):\n",
    "    weights_dna = {'A': 331.2, 'G': 347.2, 'C': 307.2, 'T': 322.2}\n",
    "    weights_rna = {'A': 331.2, 'G': 347.2, 'C': 307.2, 'U': 306.2}\n",
    "    if 'U' in sequence:\n",
    "        return sum(weights_rna[base] for base in sequence)\n",
    "    else:\n",
    "        return sum(weights_dna[base] for base in sequence)\n",
    "\n",
    "# Example usage\n",
    "rna_seq = \"AGCUCGUACGAUCG\"\n",
    "print(\"Molecular Weight of RNA:\", calculate_mw_enhanced(rna_seq), \"g/mol\")\n",
    "\n",
    "# Exercise 4: Statistical Analysis of pH Values\n",
    "ph_values_new = np.array([6.9, 7.3, 7.2, 7.4, 7.0, 7.1])\n",
    "print(\"Mean pH:\", np.mean(ph_values_new))\n",
    "print(\"Median pH:\", np.median(ph_values_new))\n",
    "print(\"Standard Deviation of pH:\", np.std(ph_values_new))\n",
    "\n",
    "# Exercise 5: Data Visualization Challenge\n",
    "plt.scatter(range(len(ph_values_new)), ph_values_new, color='red')\n",
    "plt.title(\"pH Values Over Time\")\n",
    "plt.xlabel(\"Time (arbitrary units)\")\n",
    "plt.ylabel(\"pH\")\n",
    "plt.show()\n",
    "\n",
    "# Exercise 6: Advanced Data Structure\n",
    "amino_acid_properties = {\n",
    "    'Alanine': {'pKa': 2.34, 'polarity': 'nonpolar'},\n",
    "    'Cysteine': {'pKa': 1.96, 'polarity': 'nonpolar'},\n",
    "    'Valine': {'pKa': 2.32, 'polarity': 'nonpolar'},\n",
    "    'Leucine': {'pKa': 2.36, 'polarity': 'nonpolar'},\n",
    "    'Isoleucine': {'pKa': 2.36, 'polarity': 'nonpolar'}\n",
    "}\n",
    "\n",
    "def print_amino_acid_properties(name):\n",
    "    properties = amino_acid_properties.get(name, \"Not found\")\n",
    "    print(f\"Properties of {name}: {properties}\")\n",
    "\n",
    "# Example usage\n",
    "print_amino_acid_properties(\"Alanine\")\n"
   ]
  }
 ],
 "metadata": {
  "kernelspec": {
   "display_name": "Python 3 (ipykernel)",
   "language": "python",
   "name": "python3"
  },
  "language_info": {
   "codemirror_mode": {
    "name": "ipython",
    "version": 3
   },
   "file_extension": ".py",
   "mimetype": "text/x-python",
   "name": "python",
   "nbconvert_exporter": "python",
   "pygments_lexer": "ipython3",
   "version": "3.9.18"
  }
 },
 "nbformat": 4,
 "nbformat_minor": 5
}
